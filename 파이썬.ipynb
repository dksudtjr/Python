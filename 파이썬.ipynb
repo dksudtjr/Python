{
 "cells": [
  {
   "cell_type": "markdown",
   "metadata": {},
   "source": [
    "# 파이썬 코딩도장\n",
    "# 파이썬 - 기본을 갈고 닦자!\n",
    "# 예제로 배우는 파이썬 프로그래밍\n",
    "----------------------------------------------------------------\n",
    "아래의 참고1, 참고2, 참고3 를 토대로 작성.\n",
    "<br><br/>\n",
    "참고1: [파이썬 코딩도장](https://dojang.io/course/view.php?id=7)\n",
    "<br><br/>  \n",
    "참고2: [예제로 배우는 파이썬 프로그래밍](http://pythonstudy.xyz/python/article/7-%EA%B8%B0%EB%B3%B8-%EB%8D%B0%EC%9D%B4%ED%83%80-%ED%83%80%EC%9E%85)  \n",
    "<br><br/>\n",
    "참고3: [파이썬 - 기본을 갈고 닦자!](https://wikidocs.net/book/1553)\n",
    "<br><br/>\n",
    "## 1. 기본문법\n",
    "--------------------------------------------------\n",
    "### 1.1 코딩 블럭 들여쓰기(indentation)\n",
    "-------------------------------------------------------------\n",
    "\n",
    "코딩블럭을 시작하는 문장(if, for, def 등)은 콜론(:)을 사용하고  \n",
    "내부의 코딩블럭은 동일한 들여쓰기를 사용  \n",
    "\n",
    "### 1.2 import 기본 라이브러리\n",
    "----------------------------------------------\n",
    "* `help(라이브러리)`: 라이브러리의 document 확인\n",
    "* `import 라이브러리`: 라이브러리.메소드()\n",
    "* `from 라이브러리 import 메소드 as 별칭`: 별칭()"
   ]
  },
  {
   "cell_type": "code",
   "execution_count": null,
   "metadata": {},
   "outputs": [],
   "source": [
    "from math import pow \n",
    "x=1\n",
    "\n",
    "if x == 1:\n",
    "    c = pow(2,3)\n",
    "else:\n",
    "    c = 0\n",
    "print(c)"
   ]
  },
  {
   "cell_type": "markdown",
   "metadata": {},
   "source": [
    "## 2. python 기본 데이터 타입\n",
    "------------------------------------------------------------\n",
    "* `None` == `Null`  \n",
    "  \n",
    "|타입|설명|표현|\n",
    "|--|--|--|\n",
    "|int|정수|100, 0xff, 0o57|\n",
    "|float|실수|a = 10.25, `1.2e2 == 120.0`|\n",
    "|bool|boolean|a = True|\n",
    "|None|NULL과 동일한 표현|`a = None`|\n",
    "\n",
    "### 2.1 타입 생성자 \n",
    "----------------------------------\n",
    "* `int()` `float()` `bool()` `str()`\n",
    "* `bool`: 숫자 --> 0: False / 나머지: True\n",
    "* `bool`: 문자 --> 빈 값: False / 나머지: True"
   ]
  },
  {
   "cell_type": "code",
   "execution_count": null,
   "metadata": {},
   "outputs": [],
   "source": [
    "int(3.5)      # 3\n",
    "\n",
    "2e3           # 2000.0\n",
    "float(\"1.6\")  # 1.6\n",
    "float(\"inf\")  # 무한대\n",
    "float(\"-inf\") # -무한대\n",
    "\n",
    "bool(0)       # False. 숫자에서 0만 False임,\n",
    "bool(-1)      # True\n",
    "bool(\"False\") # True\n",
    "\n",
    "a = None      # a는 None\n",
    "a is None     # a가 None 이므로 True"
   ]
  },
  {
   "cell_type": "markdown",
   "metadata": {},
   "source": [
    "### 2.2 복소수\n",
    "------------------------------\n",
    "* 복소수:  `a+bj`"
   ]
  },
  {
   "cell_type": "code",
   "execution_count": null,
   "metadata": {},
   "outputs": [],
   "source": [
    "v = 2 + 3j\n",
    "v.real # 2\n",
    "v.imag # 3"
   ]
  },
  {
   "cell_type": "markdown",
   "metadata": {},
   "source": [
    "## 3. 연산자\n",
    "-----------------------\n",
    "### 3.1 산술\n",
    "------------------\n",
    "`+` `-` `/` `*`  \n",
    "\n",
    "### 3.2 비교\n",
    "------------------\n",
    "`==` `!=` `<=` `>=` `>` `<` \n",
    "\n",
    "### 3.3 할당\n",
    "------------------\n",
    "`+=` `-=` `/=` `*=` `%=` `//=`\n",
    "```\n",
    "a = 9\n",
    "a = a % 5 #4\n",
    "a %= 5 #4\n",
    "```\n",
    "### 3.4 논리\n",
    "------------------\n",
    "`and` `or` `not`\n",
    "\n",
    "### 3.5 bitwise\n",
    "------------------\n",
    "* `bit`단위의 연산  \n",
    "\n",
    "`&` `|` `^` `~` `>>` `<<`\n",
    "```\n",
    "a = 8      # 0000 1000\n",
    "b = 11     # 0000 1011\n",
    "\n",
    "c = a ^ b  # 0000 0011   -->   XOR: 다르면 1\n",
    "```\n",
    "### 3.6 멤버쉽\n",
    "------------------\n",
    "`in` `not in`\n",
    "```\n",
    "a = [1, 2, 3, 4]\n",
    "b = 3 in a # True\n",
    "print(b)\n",
    "```\n",
    "### 3.7 identity\n",
    "------------------\n",
    "`is` `is not`\n",
    "```\n",
    "a = \"ABC\"\n",
    "b = a\n",
    "print(b) # True\n",
    "```"
   ]
  },
  {
   "cell_type": "markdown",
   "metadata": {},
   "source": [
    "## 4. 문자열\n",
    "----------------------------------\n",
    "### 4.1 문자열과 포맷팅\n",
    "------------------------------\n",
    "* 문자열  \n",
    "    `''` `\"\"`  \n",
    "* 멀티라인 문자열  \n",
    "    `[```]+[```]`\n",
    "* escape 문자  \n",
    "    `\\n` `\\t` `\\\"` `\\\\: (문자\\)` \n",
    "* 문자열 변환  \n",
    "    `str(12.96)`  \n",
    "* 문자열 인덱스 접근  \n",
    "    `s[4]`\n",
    "* 문자열 포맷팅\n",
    "    - 앞부분 `%`: 포맷 템플릿\n",
    "    - 뒷부분 `%()`: 값\n",
    "    ```\n",
    "    # 대입할 값이 복수 개이면 튜플로 묶어야 한다\n",
    "    \n",
    "    print(\"이름: %s, 나이: %d\" %(홍길동, 20))\n",
    "    ```\n",
    "* 포맷팅  \n",
    "\n",
    "|conversion specifier|의미|\n",
    "|--|--|\n",
    "|%d||\n",
    "|%f||\n",
    "|%c||\n",
    "|%s|파이썬 객체를 str()을 사용하여 변환|\n",
    "|%e|지수형 부동소수|\n",
    "|%%|문자 %|\n",
    "|%o|8진수|\n",
    "|%x|16진수|\n",
    "\n"
   ]
  },
  {
   "cell_type": "code",
   "execution_count": null,
   "metadata": {},
   "outputs": [],
   "source": [
    "# %10.2 == 전체 10자리, 소수점 2째 자리까지\n",
    "print(\"신뢰도는 %10.2f%%입니다.\" %(0.9568e2))"
   ]
  },
  {
   "cell_type": "markdown",
   "metadata": {},
   "source": [
    "### 4.2 str 문자열 클래스\n",
    "-------------------------------------\n",
    "* 문자열은 `str` 클래스 타입\n",
    "* 파이썬에서 문자열은 `유니코드`\n",
    "* `immutable` 타입이다. (변경불가)\n",
    "* 파이썬에는 `char 타입이 존재하지 않는다.`\n",
    "<br><br/>\n",
    "* `r\"문자열\"` **: escape문자를 무시하는 raw문자열**\n"
   ]
  },
  {
   "cell_type": "code",
   "execution_count": null,
   "metadata": {},
   "outputs": [],
   "source": [
    "# 파일 경로\n",
    "path = r'C:\\Temp\\test.csv' # \\t: 탭\n",
    "print(path)"
   ]
  },
  {
   "cell_type": "markdown",
   "metadata": {},
   "source": [
    "### 4.3 str 메소드\n",
    "___________________________________________________________\n",
    "#### `.join()` `.split()` `.partition` `.format()`\n",
    "----------------------------------------------------------\n",
    "#### 4.3.1 `.join()`\n",
    "  \n",
    "  * input: `리스트`\n",
    "  * output: `문자열`\n",
    "  * `구분자` 포함"
   ]
  },
  {
   "cell_type": "code",
   "execution_count": null,
   "metadata": {},
   "outputs": [],
   "source": [
    "a = '가나'\n",
    "b = '다라'\n",
    "c = '마바'\n",
    "\n",
    "s = '/'.join([a,b,c])\n",
    "print(s)\n",
    "\n",
    "s = ''.join([a,b,c])\n",
    "print(s)"
   ]
  },
  {
   "cell_type": "markdown",
   "metadata": {},
   "source": [
    "#### 4.3.2 `.split()`  \n",
    "\n",
    "   * input: `문자열(구분자)`\n",
    "   * output: `리스트`\n",
    "   * 구분자 제외\n"
   ]
  },
  {
   "cell_type": "code",
   "execution_count": null,
   "metadata": {},
   "outputs": [],
   "source": [
    "a = r'C:\\Temp\\test.csv' # escape 문자를 무시하기 위해 \"r\"을 반드시 붙인다.\n",
    "b = a.split(\"\\\\\") # '\\'문자\n",
    "print(b)"
   ]
  },
  {
   "cell_type": "markdown",
   "metadata": {},
   "source": [
    "#### 4.3.3 `.partition()`  \n",
    "   * input: `문자열(구분자)`\n",
    "   * output: `튜플`\n",
    "   * 구분자 제외"
   ]
  },
  {
   "cell_type": "code",
   "execution_count": null,
   "metadata": {},
   "outputs": [],
   "source": [
    "a, sep, b = \"Seoul -> Seattle\".partition('->')\n",
    "print(a)\n",
    "print(sep)\n",
    "print(b)"
   ]
  },
  {
   "cell_type": "markdown",
   "metadata": {},
   "source": [
    "#### 4.3.4 `.format(다양한 타입)`: 다양한 타입을 포맷팅 (`'문자열{}'` + `.format()`)  \n",
    "    1. 위치\n",
    "    2. 변수명\n",
    "    3. 리스트[인덱스]  "
   ]
  },
  {
   "cell_type": "code",
   "execution_count": null,
   "metadata": {},
   "outputs": [],
   "source": [
    "name = '철수'\n",
    "height = 156.6\n",
    "\n",
    "l = [name,height]\n",
    "\n",
    "# 1. 위치\n",
    "print(\"이름: {0}, 나이: {1}\".format(name,height))\n",
    "# 2. 변수명\n",
    "print(\"이름: {n}, 나이: {h}\".format(n='철수',h=156.6))\n",
    "# 3. 리스트[인덱스]\n",
    "print(\"이름: {tmp[0]}, 나이: {tmp[1]}\".format(tmp=l))"
   ]
  },
  {
   "cell_type": "markdown",
   "metadata": {},
   "source": [
    "## 5. bytes (바이트 클래스)\n",
    "----------------------------------------------\n",
    "```\n",
    "네트워크 리소스는 `바이트 스트림`으로 전송되므로 이해해야 한다.  \n",
    "```\n",
    "* `인코딩`: 문자를 어떻게 출력할지에 대한 약속 <br><br/>\n",
    "* `ASCII코드`: 문자 하나에 `7-bit`(128개) 할당. 나머지 1bit는 parity bit.\n",
    "* `바이트 문자 집합`: 문자 하나에 `8-bit` 할당. 256개의 문자를 표현\n",
    "* `멀티바이트 문자 집합`: ASCII 제외 `2byte`.\n",
    "* `유니코드`: 모든 언어를 표현. UTF-8, UTF-16\n",
    "    1. `UTF-8` : 유니코드 인코딩. 코드 단위 `8-bit`. 문자를 `1~4byte` 인코딩. ASCII 호환.\n",
    "    2. `UTF-16` : 유니코드 인코딩. 코드 단위 `16-bit`. 문자를 `2~4byte` 인코딩. \n",
    "______________________________________________\n",
    "### 5.1 바이트(ASCII코드) 변환\n",
    "1. 사용법: `b`+ `'문자열'` (b'문자열')\n",
    "2. `str`문자열을 `바이트`객체로 변환\n",
    "3. 각 문자를 `ASCII코드`로 변환 (파이썬에서 문자열은 유니코드)"
   ]
  },
  {
   "cell_type": "code",
   "execution_count": null,
   "metadata": {},
   "outputs": [],
   "source": [
    "text = 'Aa'\n",
    "for c in text:\n",
    "    print(c)\n",
    "\n",
    "byte = b'Aa'\n",
    "for c in byte:\n",
    "    print(c)"
   ]
  },
  {
   "cell_type": "markdown",
   "metadata": {},
   "source": [
    "### 5.2 encode()와  decode()\n",
    "1. `encode()` : `str`문자열을 `바이트`객체로 변환\n",
    "2. `decode()` : `바이트`객체를 `str`문자열로 변환\n",
    "    * `encode('UTF-8')`처럼 인코딩 방식을 지정할 수 있다"
   ]
  },
  {
   "cell_type": "code",
   "execution_count": null,
   "metadata": {},
   "outputs": [],
   "source": [
    "text1 = \"Hello world!\"\n",
    "\n",
    "# encode()\n",
    "byte = text.encode()\n",
    "print(byte)\n",
    "\n",
    "# decode()\n",
    "text2 = byte.decode()\n",
    "print(text2)\n",
    "\n",
    "# encode(UTF-8)\n",
    "utf8 = text1.encode('UTF-8')\n",
    "print(utf8)"
   ]
  },
  {
   "cell_type": "markdown",
   "metadata": {},
   "source": [
    "## 6. 조건문\n",
    "--------------------------------------------\n",
    "#### `if` `elif` `else`\n",
    "--------------------------------------------\n",
    "* `switch문` 없다"
   ]
  },
  {
   "cell_type": "markdown",
   "metadata": {},
   "source": [
    "## 7. 반복문\n",
    "-----------------------------------------\n",
    "#### `for` `while` `range` `break` `continue` \n",
    "-----------------------------------------\n",
    "* `for` 변수 `in` 컬렉션(iterable)\n",
    "* `range(시작숫자, 종료숫자, step)` \n",
    "* `break` : 중단하고 반복문 탈출\n",
    "* `continue` : 다음 반복으로 넘어감\n",
    "\n",
    "### 7.1 for 변수 in 컬렉션(iterable)\n",
    "----------------------------------------------\n",
    "1. 변수는 `element(요소)`를 가져옴\n",
    "2. 대표적인 iterable 컬렉션 : `list` `set` `tuple` `dictionary` `str` `range`\n",
    "3. iterable 컬렉션 판별 (`collections.iterable`)"
   ]
  },
  {
   "cell_type": "code",
   "execution_count": null,
   "metadata": {},
   "outputs": [],
   "source": [
    "import collections\n",
    "a = [1,2,3]\n",
    "isinstance(a, collections.Iterable)"
   ]
  },
  {
   "cell_type": "markdown",
   "metadata": {},
   "source": [
    "## 8. 얕은/깊은 복사\n",
    "------------------------------------\n",
    "* `id()` : 메모리 주소값 리턴  \n",
    "\n",
    "### 8.1 변수 간 대입\n",
    "-----------------------------------\n",
    "#### 8.1.1 mutable한 객체 대입\n",
    "-------------------------------------\n",
    "* `b = a` : `주소값 복사`\n",
    "* `b를 변경` : `a도 변경`"
   ]
  },
  {
   "cell_type": "code",
   "execution_count": null,
   "metadata": {},
   "outputs": [],
   "source": [
    "a = [1,2,3]\n",
    "b = a\n",
    "\n",
    "print(id(a))\n",
    "print(id(b)) # a와 같은 메모리"
   ]
  },
  {
   "cell_type": "markdown",
   "metadata": {},
   "source": [
    "#### 8.1.2 immutable한 객체 대입\n",
    "----------------------------------------\n",
    "* `b = a` : `주소값 복사`\n",
    "* `b를 변경` : `b의 메모리 재할당`\n",
    "* `b를 변경` : `다른 메모리`"
   ]
  },
  {
   "cell_type": "code",
   "execution_count": null,
   "metadata": {},
   "outputs": [],
   "source": [
    "a = \"abc\"\n",
    "b = a\n",
    "print(id(a))\n",
    "print(id(b)) # a와 같은 메모리\n",
    "\n",
    "b = \"ab\"\n",
    "print(id(a))\n",
    "print(id(b)) # a와 다른 메모리"
   ]
  },
  {
   "cell_type": "markdown",
   "metadata": {},
   "source": [
    "### 8.2 얕은 복사\n",
    "-----------------------------\n",
    "```\n",
    "외부만 다르고 내부는 같은 복사\n",
    "`외부` 객체 : `다른` 메모리   \n",
    "`내부` 객체 : `같은` 메모리  \n",
    "```\n",
    "* `a`,`b`는 `다른` 메모리\n",
    "* `a[0]`, `b[0]`은 `같은` 메모리\n",
    "---------------------------------\n",
    "<얕은복사 방법>\n",
    "1. `copy()`\n",
    "2. `리스트 슬라이싱[:]`"
   ]
  },
  {
   "cell_type": "code",
   "execution_count": null,
   "metadata": {},
   "outputs": [],
   "source": [
    "import copy\n",
    "\n",
    "a = [[1,2],[3,4]]\n",
    "b = copy.copy(a)\n",
    "print(id(a))\n",
    "print(id(b)) # 다른 메모리\n",
    "print(id(a[0]))\n",
    "print(id(b[0])) # 같은 메모리\n",
    "\n",
    "a[0][0] = \"A\"\n",
    "print(a)\n",
    "print(b) # a[0]를 변경하면 b[0]도 변경"
   ]
  },
  {
   "cell_type": "markdown",
   "metadata": {},
   "source": [
    "### 8.3 깊은 복사\n",
    "------------------------------------------\n",
    "```\n",
    "외부와 내부 모두 다른 복사\n",
    "```\n",
    "* `a`,`b`는 `다른` 메모리\n",
    "* `a[0]`, `b[0]`은 `다른` 메모리"
   ]
  },
  {
   "cell_type": "code",
   "execution_count": null,
   "metadata": {},
   "outputs": [],
   "source": [
    "import copy\n",
    "\n",
    "a = [[1,2],[3,4]]\n",
    "b = copy.deepcopy(a)\n",
    "\n",
    "print(id(a[0]))\n",
    "print(id(b[0]))"
   ]
  },
  {
   "cell_type": "markdown",
   "metadata": {},
   "source": [
    "## 9. 컬렉션: list\n",
    "------------------------------------\n",
    "* `다양한 자료형`의 요소들을 갖는 `순서 있는` 컬렉션.\n",
    "* 추가/ 수정/ 삭제\n",
    "* 파이썬에서 list는 `동적배열`.\n",
    "--------------------------------------\n",
    "### 9.0 리스트 변수 할당\n",
    "-------------------------------------------------\n",
    "* 각각의 요소를 각각의 변수에 할당 가능.  "
   ]
  },
  {
   "cell_type": "code",
   "execution_count": null,
   "metadata": {},
   "outputs": [],
   "source": [
    "a, b, c = [1, 2, 3]\n",
    "print(b)"
   ]
  },
  {
   "cell_type": "markdown",
   "metadata": {},
   "source": [
    "### 9.1 리스트 indexing\n",
    "------------------------------------------\n",
    "* 음수 인덱싱\n",
    "    * `a[-1]` : 마지막 요소\n",
    "    * `a[-2]` : 마지막에서 2번째  "
   ]
  },
  {
   "cell_type": "code",
   "execution_count": null,
   "metadata": {},
   "outputs": [],
   "source": [
    "a = [\"AB\", 10.25, False, 3.14]\n",
    "print(a[-1])"
   ]
  },
  {
   "cell_type": "markdown",
   "metadata": {},
   "source": [
    "### 9.2 리스트 slicing(`[시작:종료:step]`)\n",
    "----------------------------------------------\n",
    "* `step`을 이용하여 리스트를 `reverse` 할 수 있다."
   ]
  },
  {
   "cell_type": "code",
   "execution_count": null,
   "metadata": {},
   "outputs": [],
   "source": [
    "a = 'A B C D E'.split(' ')\n",
    "\n",
    "print(a)\n",
    "print(a[::-1])"
   ]
  },
  {
   "cell_type": "markdown",
   "metadata": {},
   "source": [
    "### 9.3 리스트 - 추가(`.append(요소)` `.insert(index, 요소)` `extend(리스트)`) 삭제(`del a[0]`) 수정\n",
    "----------------------------------------------\n",
    "* a`.append(\"CD\")`\n",
    "* a`.insert(-1, \"CD\")`\n",
    "* a`.extend([\"CD\"])`\n",
    "* `del` a[0]  "
   ]
  },
  {
   "cell_type": "code",
   "execution_count": null,
   "metadata": {},
   "outputs": [],
   "source": [
    "a = [\"AB\", 10.25, False]\n",
    "a.insert(3, \"CD\")\n",
    "print(\"추가: \" + str(a))\n",
    "\n",
    "del a[-1]\n",
    "print(\"삭제: \" + str(a))\n",
    "\n",
    "a[2] = True\n",
    "print(\"수정: \" + str(a))"
   ]
  },
  {
   "cell_type": "markdown",
   "metadata": {},
   "source": [
    "### 9.4 리스트 요소 - 검색(`.index(요소)`  `.count(요소)`)\n",
    "------------------------------------------------------------------------------\n"
   ]
  },
  {
   "cell_type": "code",
   "execution_count": null,
   "metadata": {},
   "outputs": [],
   "source": [
    "a = \"as soon as possible\"\n",
    "l = a.split(' ')\n",
    "\n",
    "print(l.index('as'))\n",
    "print(l.count('as'))"
   ]
  },
  {
   "cell_type": "markdown",
   "metadata": {},
   "source": [
    "### 9.5 리스트 병합(+) 반복(\\*)\n",
    "----------------------------------------------\n",
    "* `반복(*)`은 `얕은복사` "
   ]
  },
  {
   "cell_type": "code",
   "execution_count": null,
   "metadata": {},
   "outputs": [],
   "source": [
    "a = [[1,2]] * 3\n",
    "print(a)\n",
    "\n",
    "a[0].append(99)\n",
    "print(a)"
   ]
  },
  {
   "cell_type": "markdown",
   "metadata": {},
   "source": [
    "### 9.6 [`for`_`in`_`[if문]`]을 이용한 리스트 정의\n",
    "----------------------------------------------\n",
    "```\n",
    "[표현식 for 요소 in 컬렉션 [if 조건식]]\n",
    "```"
   ]
  },
  {
   "cell_type": "code",
   "execution_count": 30,
   "metadata": {},
   "outputs": [
    {
     "data": {
      "text/plain": [
       "[0, 11, 22, 33, 44, 55, 66, 77, 88, 99]"
      ]
     },
     "execution_count": 30,
     "metadata": {},
     "output_type": "execute_result"
    }
   ],
   "source": [
    "a = [i for i in range(100) if (i%11==0)]\n",
    "a"
   ]
  },
  {
   "cell_type": "markdown",
   "metadata": {},
   "source": [
    "### 9.7 리스트 정렬\n",
    "------------------------------------------------------------\n",
    "#### 9.7.1 리스트 본체 정렬\n",
    "-------------------------------------------------------------\n",
    "* `reverse()` : 역순\n",
    "* `.sort()` : 오름차순\n",
    "* `.sort(reverse=True)` : 내림차순\n",
    "* `.sort(key=len)` : key 옵션에 지정된 `함수의 결과에 따라` 정렬"
   ]
  },
  {
   "cell_type": "code",
   "execution_count": 31,
   "metadata": {},
   "outputs": [
    {
     "name": "stdout",
     "output_type": "stream",
     "text": [
      "['A', 'B', 'C', 'D']\n",
      "['!', '나는', '정말로', '사람이다']\n"
     ]
    }
   ],
   "source": [
    "a = ['D','A','C','B']\n",
    "a.sort()\n",
    "print(a)\n",
    "\n",
    "a = ['나는','!','사람이다' ,'정말로']\n",
    "a.sort(key=len)\n",
    "print(a)"
   ]
  },
  {
   "cell_type": "markdown",
   "metadata": {},
   "source": [
    "#### 9.7.2 리스트 결과 정렬\n",
    "-------------------------------------------------------------\n",
    "* 본체는 정렬되지 않음\n",
    "* `return값`만 `정렬`.\n",
    "    1. `sorted(리스트)` : 오름차순\n",
    "    2. `reversed(리스트)` : `iterable 객체` 반환. 확인을 위해서 list, tuple 등으로 변형해야 함."
   ]
  },
  {
   "cell_type": "code",
   "execution_count": null,
   "metadata": {},
   "outputs": [],
   "source": [
    "x = [4,3,2,1]\n",
    "y = sorted(x)\n",
    "z = reversed(x)\n",
    "\n",
    "print(y)\n",
    "print(tuple(z))"
   ]
  },
  {
   "cell_type": "markdown",
   "metadata": {},
   "source": [
    "## 10. 튜플\n",
    "---------------------------------------------\n",
    "* `변경 불가능`한 `순서 있는` 객체\n",
    "* `괄호 생략` 가능\n",
    "--------------------------------------------\n",
    "   1. `인덱싱` `슬라이싱`\n",
    "   2. `병합(+)` `반복(\\*)`\n",
    "   3. 함수에서 `여러 값`을 한번에 `return`할 때 사용"
   ]
  },
  {
   "cell_type": "code",
   "execution_count": null,
   "metadata": {},
   "outputs": [],
   "source": [
    "def min_max(items):\n",
    "    return min(items), max(items)\n",
    "\n",
    "min_max([5,8,41,2,9,7,5,3,4])"
   ]
  },
  {
   "cell_type": "markdown",
   "metadata": {},
   "source": [
    "## 11. 딕셔너리\n",
    "----------------------------------------------------------------------\n",
    "* `키(key)-값(value)`쌍을 갖는 `순서없는` 객체\n",
    "* `키`는 `immutable 타입`\n",
    "* `{}` 혹은 `dict()`로 선언\n",
    "* `키`는 중복되면 `마지막 값`으로 덮어씌워짐.\n",
    "* `키`로 `접근`\n"
   ]
  },
  {
   "cell_type": "code",
   "execution_count": null,
   "metadata": {},
   "outputs": [],
   "source": [
    "a = {'a':1, 'b':2, 'c':3}\n",
    "b = dict(a=1, b=2, c=3)\n",
    "\n",
    "print(a)\n",
    "print(b)"
   ]
  },
  {
   "cell_type": "markdown",
   "metadata": {},
   "source": [
    "### 11.1 딕셔너리 추가(`a[키]=값`) 수정(`a[키]=값`) 삭제(`del a`)\n",
    "-----------------------------------------------------------------------------------\n",
    "### 11.2 딕셔너리 메소드 - `keys()` `values()` `items()` `get(키)` `update(딕셔너리)`\n",
    "_____________________________________________________________________________________________________\n",
    "* `a.get(키)` : 키가 없으면 `None` 리턴. (`a[키]` : 키가 없으면 `Error` 리턴)\n",
    "* `a.update(딕셔너리)` : 여러 `키:값` 한번에 수정 및 추가"
   ]
  },
  {
   "cell_type": "code",
   "execution_count": 20,
   "metadata": {},
   "outputs": [
    {
     "name": "stdout",
     "output_type": "stream",
     "text": [
      "dict_keys(['a', 'b', 'c'])\n",
      "dict_values([1, 2, 3])\n",
      "dict_items([('a', 1), ('b', 2), ('c', 3)])\n",
      "3\n",
      "{'a': 99, 'b': 2, 'c': 3, 'd': 4}\n"
     ]
    }
   ],
   "source": [
    "a = dict(a=1,b=2,c=3)\n",
    "\n",
    "print(a.keys())\n",
    "print(a.values())\n",
    "print(a.items())\n",
    "\n",
    "print(a.get('c'))\n",
    "\n",
    "a.update(dict(a=99, d=4))\n",
    "print(a)"
   ]
  },
  {
   "cell_type": "markdown",
   "metadata": {},
   "source": [
    "### 11.3 딕셔너리 `for문`\n",
    "---------------------------------------------------------------------------\n",
    "* 딕셔너리에서 `for문`은 `키를 랜덤하게 return`\n",
    "* 랜덤한 이유는 `Hash-table` 속성이다\n"
   ]
  },
  {
   "cell_type": "code",
   "execution_count": 21,
   "metadata": {},
   "outputs": [
    {
     "name": "stdout",
     "output_type": "stream",
     "text": [
      "a b c d e f "
     ]
    }
   ],
   "source": [
    "a = dict(a=1,b=2,c=3,d=4,e=5,f=6)\n",
    "\n",
    "for i in a:\n",
    "    print(i, end=' ')"
   ]
  },
  {
   "cell_type": "markdown",
   "metadata": {},
   "source": [
    "## 12. 집합(set)\n",
    "------------------------------------------------------------------------------------\n",
    "* `중복 X`  `순서 X`  \n",
    "\n",
    "### 12.1 집합 - 추가(`add()`) 삭제(`remove()`) 수정(`update()`)\n",
    "------------------------------------------------------------------------------------\n",
    "### 12.2 집합연산 - 합집합(`|`) 교집합(`&`) 차집합(`-`) 합집합-교집합(`^`)"
   ]
  },
  {
   "cell_type": "markdown",
   "metadata": {},
   "source": [
    "## 13. 함수\n",
    "------------------------------------\n",
    "### 13.1 함수의 인자(argument) 전달 --> `list` `dict` 는 조심하자!\n",
    "----------------------------------------------------\n",
    "        원본을 변형하기 싫으면 copy.deepcopy() 이용하자\n",
    "#### 13.1.1 변수, 객체, 주소\n",
    "--------------------------------------------------------------\n",
    "* 파이썬에서 모든 타입은 `객체`\n",
    "* `대입연산(=)` : `주소값 복사`\n",
    "    1. `mutable` : `같은 주소`. 즉, b 변경하면 a도 `함께 변함`. (ex. list, dict)\n",
    "    2. `immutable` : `다른 주소`. 즉, b 변경하면 b의 `메모리 재할당`. (ex. int, float, sting, tuple)  "
   ]
  },
  {
   "cell_type": "code",
   "execution_count": 30,
   "metadata": {},
   "outputs": [
    {
     "name": "stdout",
     "output_type": "stream",
     "text": [
      "[1, 2]\n",
      "2346876791304\n",
      "2346876791304\n",
      "[1]\n",
      "2346876791304\n",
      "2346876791304\n"
     ]
    }
   ],
   "source": [
    "# mutable 객체\n",
    "\n",
    "a = [1,2]\n",
    "b = a\n",
    "print(a)\n",
    "print(id(a)); print(id(b))\n",
    "\n",
    "del b[1]\n",
    "print(a) # 같이 변함\n",
    "print(id(a)); print(id(b)) # 동일한 주소"
   ]
  },
  {
   "cell_type": "markdown",
   "metadata": {},
   "source": [
    "#### 13.1.2 함수의 인자 전달\n",
    "-----------------------------------------------------\n",
    "1. `mutable`객체 : (ex. list, dict)\n",
    "    1. `같이 변형`  \n",
    "    2. `재할당` -> `변형 X` (다른 주소의 메모리 받음)  \n",
    "2. `immutable`객체: `변형 X` (ex. int, float, string, tuple)"
   ]
  },
  {
   "cell_type": "code",
   "execution_count": 63,
   "metadata": {},
   "outputs": [
    {
     "name": "stdout",
     "output_type": "stream",
     "text": [
      "[1]\n",
      "[1]\n",
      "[1]\n",
      "[1, 2]\n"
     ]
    }
   ],
   "source": [
    "# mutable: 같이 변형\n",
    "a = [1,2]\n",
    "\n",
    "def modify(i):\n",
    "    del i[1]\n",
    "    return i\n",
    "\n",
    "print(modify(a))\n",
    "print(a);\n",
    "\n",
    "# mutable: 재할당 -> 변형 X\n",
    "a = [1,2]\n",
    "\n",
    "def reassign(i):\n",
    "    i = [1]\n",
    "    return i\n",
    "\n",
    "print(reassign(a))\n",
    "print(a)"
   ]
  },
  {
   "cell_type": "code",
   "execution_count": 72,
   "metadata": {},
   "outputs": [
    {
     "name": "stdout",
     "output_type": "stream",
     "text": [
      "[1]\n",
      "[1, 2]\n"
     ]
    }
   ],
   "source": [
    "# mutalbe: 원본을 변형하기 싫으면 copy.deepcopy() 이용!!\n",
    "\n",
    "import copy\n",
    "\n",
    "a = [1,2]\n",
    "b = copy.deepcopy(a)\n",
    "print(modify(b))\n",
    "print(a)"
   ]
  },
  {
   "cell_type": "markdown",
   "metadata": {},
   "source": [
    "### 13.2 함수 인수/매개변수\n",
    "------------------------------------------------------------\n",
    "#### 13.2.1 `디폴트 매개변수` : 인자가 없을 때, `매개변수의 기본값` 설정.\n",
    "------------------------------------------------------------"
   ]
  },
  {
   "cell_type": "code",
   "execution_count": 44,
   "metadata": {},
   "outputs": [
    {
     "name": "stdout",
     "output_type": "stream",
     "text": [
      "철수, 남자\n",
      "영희, 여자\n"
     ]
    }
   ],
   "source": [
    "def info(name, sex='남자'):\n",
    "    print(name, end=', ')\n",
    "    print(sex)\n",
    "\n",
    "info('철수')\n",
    "info('영희', '여자')"
   ]
  },
  {
   "cell_type": "markdown",
   "metadata": {},
   "source": [
    "#### 13.2.2 리스트/튜플 언패킹: `(*인수)`\n",
    "--------------------------------------------------------------\n",
    "* `함수(*인수)`\n",
    "        ( 매개변수 개수 == 리스트 요소 개수 )"
   ]
  },
  {
   "cell_type": "code",
   "execution_count": 3,
   "metadata": {},
   "outputs": [
    {
     "name": "stdout",
     "output_type": "stream",
     "text": [
      "1 2 3\n"
     ]
    }
   ],
   "source": [
    "def print_int(a,b,c):\n",
    "    print(a,b,c);\n",
    "    \n",
    "a = [1,2,3]\n",
    "print_int(*a)"
   ]
  },
  {
   "cell_type": "markdown",
   "metadata": {},
   "source": [
    "#### 13.2.3 리스트/튜플 가변인수 함수: `(*매개변수)`\n",
    "-------------------------------------------------------------------------------\n",
    "* `def 함수(*매개변수):`\n",
    "* 가변길이 인자를 받을 때 사용\n",
    "\n",
    "        ( 매개변수 갯수 != 리스트 요소 갯수)"
   ]
  },
  {
   "cell_type": "code",
   "execution_count": 4,
   "metadata": {},
   "outputs": [
    {
     "name": "stdout",
     "output_type": "stream",
     "text": [
      "1 2 3 4 5 6 7 9 "
     ]
    }
   ],
   "source": [
    "def print_int(*args):\n",
    "    for i in args:\n",
    "        print(i, end=\" \")\n",
    "\n",
    "a = [1,2,3,4,5,6,7,9]\n",
    "print_int(*a)"
   ]
  },
  {
   "cell_type": "markdown",
   "metadata": {},
   "source": [
    "#### 13.2.3 리스트/튜플 고정인수 + 언패킹 + 가변인수 함수: `(고정, *매개변수)`\n",
    "----------------------------------------------------------------------------------"
   ]
  },
  {
   "cell_type": "code",
   "execution_count": 22,
   "metadata": {},
   "outputs": [
    {
     "name": "stdout",
     "output_type": "stream",
     "text": [
      "fuck / 1 2 3 4 5 "
     ]
    }
   ],
   "source": [
    "def print_char_int(c, *args): # (고정인수, *가변인수) 순서 정확히\n",
    "    print(c, end=\" / \")\n",
    "    for i in args:\n",
    "            print(i, end=\" \")\n",
    "\n",
    "a = [1,2,3,4,5] \n",
    "print_char_int(\"fuck\", *a)"
   ]
  },
  {
   "cell_type": "markdown",
   "metadata": {},
   "source": [
    "#### 13.2.4 딕셔너리 언패킹: `(** 인수)`\n",
    "-----------------------------------------------------------\n",
    "* `(* 딕셔너리)`: 키\n",
    "* `(** 딕셔너리)`: 값\n",
    "\n",
    "        ( 매개변수 이름 == 키 이름 )\n",
    "        ( 매개변수 갯수 == 키 갯수 )"
   ]
  },
  {
   "cell_type": "code",
   "execution_count": 32,
   "metadata": {},
   "outputs": [
    {
     "name": "stdout",
     "output_type": "stream",
     "text": [
      "name: name\n",
      "age: age\n",
      "address: address\n",
      "-----------------\n",
      "name: 홍길동\n",
      "age: 30\n",
      "address: 서울시 광진구\n"
     ]
    }
   ],
   "source": [
    "def personal_info(name, age, address):\n",
    "    print('name:', name)\n",
    "    print('age:', age)\n",
    "    print('address:', address)\n",
    "    \n",
    "dic = {'name': '홍길동', 'age' : 30, 'address' : '서울시 광진구'}\n",
    "personal_info(*dic) # * -> 키\n",
    "print('-----------------')\n",
    "personal_info(**dic) # ** -> 값"
   ]
  },
  {
   "cell_type": "markdown",
   "metadata": {},
   "source": [
    "#### 13.2.5 딕셔너리 가변인수 함수(`** 매개변수`)\n",
    "------------------------------------------------------------\n",
    "* def 함수`(**매개변수)`:"
   ]
  },
  {
   "cell_type": "code",
   "execution_count": 24,
   "metadata": {},
   "outputs": [
    {
     "name": "stdout",
     "output_type": "stream",
     "text": [
      "name : 홍길동\n",
      "age : 30\n",
      "address : 서울시 광진구\n"
     ]
    }
   ],
   "source": [
    "def personal_info(**kwargs): # kwargs: keyword arguments\n",
    "    for kw, arg in kwargs.items():\n",
    "        print(kw, ':', arg)\n",
    "\n",
    "dic = {'name': '홍길동', 'age' : 30, 'address' : '서울시 광진구'}\n",
    "personal_info(**dic)"
   ]
  },
  {
   "cell_type": "markdown",
   "metadata": {},
   "source": [
    "#### 13.2.6 리스트/튜플 가변인수 + 딕셔너리 가변인수: `(*매개변수, **매개변수)`\n",
    "--------------------------------------------------------------------------------------"
   ]
  },
  {
   "cell_type": "code",
   "execution_count": 30,
   "metadata": {},
   "outputs": [
    {
     "name": "stdout",
     "output_type": "stream",
     "text": [
      "1:2:3:4:5\n",
      "1:2:3:4\n"
     ]
    }
   ],
   "source": [
    "def custom_print(*args, **kwargs):\n",
    "    print(*args, **kwargs)\n",
    "\n",
    "custom_print(1,2,3,4,5, sep=':')\n",
    "custom_print(*[1,2,3,4], sep=':')"
   ]
  },
  {
   "cell_type": "markdown",
   "metadata": {},
   "source": [
    "## 14. 입력과 출력\n",
    "----------------------------------------------\n",
    "### 14.1 입력\n",
    "---------------------------------------------\n",
    "* `a = input('입력하세요: ')`\n",
    "* `a, b = input().split()`\n",
    "* 입력받은 값은 항상 `str` --> `int(input())` : 1개씩 int로 변환\n",
    "* 입력받은 값은 항상 `str` --> `a, b = map(int, input().split())` : 여러개 int로 변환\n",
    "\n"
   ]
  },
  {
   "cell_type": "code",
   "execution_count": 33,
   "metadata": {},
   "outputs": [
    {
     "name": "stdout",
     "output_type": "stream",
     "text": [
      "a, b 입력: 10 20\n",
      "30\n",
      "c, d입력: 10 20\n",
      "30\n"
     ]
    }
   ],
   "source": [
    "a, b = input('a, b 입력: ').split()\n",
    "a = int(a)\n",
    "b = int(b)\n",
    "print(a+b)\n",
    "\n",
    "# map(함수, 리스트[튜플]) : 리스트[튜플]의 요소를 지정된 함수로 처리\n",
    "c,d = map(int, input('c, d입력: ').split()) \n",
    "print(c + d)"
   ]
  },
  {
   "cell_type": "markdown",
   "metadata": {},
   "source": [
    "### 14.2 출력\n",
    "---------------------------------------------------------\n",
    "* `print(a,b,c)`: a b c (공백)\n",
    "* print(a,b,c,`sep='/'`): a/b/c (구분자)\n",
    "* print(a,b,c,`end='#'`): a b c# (마지막 개행 대신)\n"
   ]
  },
  {
   "cell_type": "code",
   "execution_count": 13,
   "metadata": {},
   "outputs": [
    {
     "name": "stdout",
     "output_type": "stream",
     "text": [
      "1 2 3#1/2/3\n"
     ]
    }
   ],
   "source": [
    "a, b, c = 1,2,3\n",
    "print(a,b,c,end='#')\n",
    "print(a,b,c,sep='/')"
   ]
  },
  {
   "cell_type": "markdown",
   "metadata": {},
   "source": [
    "## 15. 람다함수\n",
    "------------------------------------------------------------------\n",
    "* `lambda` 매개변수1, 매개변수2, .. `:` 식1 `if` 조건식 `else` 식2\n",
    "-------------------------------------------------------\n",
    "* 익명함수.  \n",
    "\n",
    "    1. `변수에 할당`해야 호출 가능\n",
    "    2. `(람다표현식)(인자)`로 바로 호출도 가능\n",
    "    <br><br/>\n",
    "* 람다 함수에서 변수 만들 수 없다.\n",
    "* 다른 함수의 `인자`로 주로 사용. `map(lambda x : x*10, [1,2,3])`\n"
   ]
  },
  {
   "cell_type": "code",
   "execution_count": 1,
   "metadata": {},
   "outputs": [
    {
     "data": {
      "text/plain": [
       "<function __main__.<lambda>(x, y)>"
      ]
     },
     "execution_count": 1,
     "metadata": {},
     "output_type": "execute_result"
    }
   ],
   "source": [
    "# 람다 함수 객체 반환\n",
    "lambda x, y: x + y"
   ]
  },
  {
   "cell_type": "code",
   "execution_count": 10,
   "metadata": {},
   "outputs": [
    {
     "name": "stdout",
     "output_type": "stream",
     "text": [
      "30\n",
      "-10\n"
     ]
    }
   ],
   "source": [
    "# 호출하려면 변수에 할당해야 함\n",
    "func = lambda x, y: x + y\n",
    "print(func(10,20))\n",
    "\n",
    "# 바로 호출\n",
    "print((lambda x, y: x - y)(10,20))"
   ]
  },
  {
   "cell_type": "code",
   "execution_count": 13,
   "metadata": {},
   "outputs": [
    {
     "data": {
      "text/plain": [
       "[10, 20, 30]"
      ]
     },
     "execution_count": 13,
     "metadata": {},
     "output_type": "execute_result"
    }
   ],
   "source": [
    "# map의 return값은 map객체 이므로 list로 변환.\n",
    "list(map(lambda x : x*10, [1,2,3]))"
   ]
  },
  {
   "cell_type": "code",
   "execution_count": 16,
   "metadata": {},
   "outputs": [
    {
     "data": {
      "text/plain": [
       "[1, 2, '3', 4, 5, '6', 7, 8, '9', 10]"
      ]
     },
     "execution_count": 16,
     "metadata": {},
     "output_type": "execute_result"
    }
   ],
   "source": [
    "# 3의 배수를 문자열로 변환\n",
    "a = [1,2,3,4,5,6,7,8,9,10]\n",
    "\n",
    "list(map(lambda x : str(x) if (x % 3 == 0) else x, a))   "
   ]
  },
  {
   "cell_type": "markdown",
   "metadata": {},
   "source": [
    "### 15.1 람다함수 `map` `filter` `reduce`\n",
    "--------------------------------------------------------------------------\n",
    "#### 15.1.1 map에 여러 객체 넣기\n",
    "--------------------------------------------------------------------------\n",
    "* `map(함수, iterable 객체)` : 함수로 요소들을 처리"
   ]
  },
  {
   "cell_type": "code",
   "execution_count": 36,
   "metadata": {},
   "outputs": [
    {
     "data": {
      "text/plain": [
       "['2', '4', '6', '8', '10']"
      ]
     },
     "execution_count": 36,
     "metadata": {},
     "output_type": "execute_result"
    }
   ],
   "source": [
    "# 리스트 요소들을 str으로 변환\n",
    "a = list(i for i in range(1,11) if (i%2==0))\n",
    "list(map(str,a))"
   ]
  },
  {
   "cell_type": "code",
   "execution_count": 18,
   "metadata": {},
   "outputs": [
    {
     "data": {
      "text/plain": [
       "[6, 14, 24, 36, 50]"
      ]
     },
     "execution_count": 18,
     "metadata": {},
     "output_type": "execute_result"
    }
   ],
   "source": [
    "# 2개 리스트 요소를 곱해서 새로운 리스트 생성\n",
    "a = [1,2,3,4,5]\n",
    "b = [6,7,8,9,10]\n",
    "list(map(lambda x, y : x*y , a,b))"
   ]
  },
  {
   "cell_type": "markdown",
   "metadata": {},
   "source": [
    "#### 15.1.2 filter\n",
    "--------------------------------------------------------------------------\n",
    "* `filter(bool함수, iterable 객체`) : 함수가 True일 때만 요소들을 가져옴"
   ]
  },
  {
   "cell_type": "code",
   "execution_count": 41,
   "metadata": {},
   "outputs": [
    {
     "data": {
      "text/plain": [
       "[2, 4, 6, 8, 10]"
      ]
     },
     "execution_count": 41,
     "metadata": {},
     "output_type": "execute_result"
    }
   ],
   "source": [
    "a = list(i for i in range(1,11))\n",
    "list(filter(lambda x : x % 2 ==0, a))"
   ]
  },
  {
   "cell_type": "markdown",
   "metadata": {},
   "source": [
    "#### 15.1.3 reduce\n",
    "--------------------------------------------------------------------------\n",
    "* from `functools` import `reduce` : functools 모듈의 reduce 함수 \n",
    "* `reduce(함수, iterable 객체)` : 함수로 요소를 처리 후 이전 결과와 누적해서 반환"
   ]
  },
  {
   "cell_type": "code",
   "execution_count": 45,
   "metadata": {},
   "outputs": [
    {
     "data": {
      "text/plain": [
       "55"
      ]
     },
     "execution_count": 45,
     "metadata": {},
     "output_type": "execute_result"
    }
   ],
   "source": [
    "from functools import reduce\n",
    "\n",
    "def f(x,y):\n",
    "    return x+y\n",
    "\n",
    "a=[1,2,3,4,5,6,7,8,9,10]\n",
    "reduce(f, a)"
   ]
  },
  {
   "cell_type": "markdown",
   "metadata": {},
   "source": [
    "##  16. 클로저\n",
    "--------------------------------------------------------------------------\n",
    "\n",
    "### 16.2 변수 scope\n",
    "--------------------------------------------------------------------------\n",
    "* 선언 이후, 해당 블럭 혹은 함수 내에서 사용 가능\n",
    "* 단, 변경은 불가능.\n",
    "* 전역변수 변경 - `global`\n",
    "* 지역변수 변경 - `nonlocal`\n",
    "### 16.1 함수 내부에서 전역변수 변경 - `global`키워드\n",
    "--------------------------------------------------------------------------\n",
    "* 전역변수\n",
    "* 지역변수\n",
    "* 현재 함수의 `외부 전역변수`를 변경 - `global`"
   ]
  },
  {
   "cell_type": "code",
   "execution_count": 58,
   "metadata": {},
   "outputs": [
    {
     "name": "stdout",
     "output_type": "stream",
     "text": [
      "20\n",
      "20\n"
     ]
    }
   ],
   "source": [
    "x = 10 # 전역변수\n",
    "def foo():\n",
    "    global x # global 키워드 : 전역변수 사용\n",
    "    x = 20\n",
    "    print(x)\n",
    "\n",
    "foo()\n",
    "print(x) "
   ]
  },
  {
   "cell_type": "markdown",
   "metadata": {},
   "source": [
    "### 16.2 함수 내부의 함수\n",
    "--------------------------------------------------------------------------\n",
    "*  현재 함수의 `외부 지역변수`를 변경 - `nonlocal`"
   ]
  },
  {
   "cell_type": "code",
   "execution_count": 63,
   "metadata": {},
   "outputs": [
    {
     "name": "stdout",
     "output_type": "stream",
     "text": [
      "20\n",
      "10\n"
     ]
    }
   ],
   "source": [
    "def A():\n",
    "    x = 10\n",
    "    def B():\n",
    "        global x # 현재 함수 외부의 지역변수 사용\n",
    "        x = 20\n",
    "        print(x)\n",
    "    B()\n",
    "    print(x)\n",
    "\n",
    "A()"
   ]
  },
  {
   "cell_type": "code",
   "execution_count": 65,
   "metadata": {},
   "outputs": [
    {
     "name": "stdout",
     "output_type": "stream",
     "text": [
      "20\n",
      "10\n"
     ]
    }
   ],
   "source": [
    "def A():\n",
    "    x = 10\n",
    "    def B():\n",
    "        x = 20\n",
    "        print(x)\n",
    "    B()\n",
    "    print(x)\n",
    "    \n",
    "A()"
   ]
  },
  {
   "cell_type": "markdown",
   "metadata": {},
   "source": [
    "### 16.3 클로저\n",
    "--------------------------------------------------------------------------\n",
    "1. 외부함수가 `내부의 함수`를 return\n",
    "2. `내부의 함수`는 외부의 `지역변수`를 사용\n",
    "\n",
    "> `클로저`: 함수를 둘러싼 환경을 유지했다가 나중에 다시 사용하는 함수\n",
    "        >> 클로저는 지역변수와 코드를 묶어서 사용.  \n",
    "        >> 클로저에 속한 지역 변수는 바깥에서 직접 접근할 없음 -> 데이터 숨길 때 사용.\n"
   ]
  },
  {
   "cell_type": "code",
   "execution_count": 2,
   "metadata": {},
   "outputs": [
    {
     "name": "stdout",
     "output_type": "stream",
     "text": [
      "4 9 16 25\n"
     ]
    }
   ],
   "source": [
    "def cal():\n",
    "    b = 2\n",
    "    def square(x): \n",
    "        return (x**b) # 외부 함수의 지역변수 사용\n",
    "    return square # 함수이름만 반환\n",
    "\n",
    "# cal()이 square를 반환했으므로 c에는 square가 들어감\n",
    "c = cal() # cal()호출이 끝났어도 지역변수 b를 계속 사용할 수 있음 (클로저)\n",
    "print(c(2), c(3), c(4), c(5))\n",
    "    \n",
    "    "
   ]
  },
  {
   "cell_type": "code",
   "execution_count": 74,
   "metadata": {},
   "outputs": [
    {
     "name": "stdout",
     "output_type": "stream",
     "text": [
      "1 2 3 4 5 6 7 8 9 10 "
     ]
    }
   ],
   "source": [
    "# 함수 c를 호출할 때마다 호출횟수를 출력\n",
    "\n",
    "def counter():\n",
    "    i = 0\n",
    "    def count():\n",
    "        nonlocal i\n",
    "        i+=1\n",
    "        return i\n",
    "    return count\n",
    "\n",
    "c = counter()\n",
    "for i in range(10):\n",
    "    print(c(), end=' ')"
   ]
  },
  {
   "cell_type": "markdown",
   "metadata": {},
   "source": [
    "## 17. 클래스\n",
    "-----------------------------------------------------------------------------\n",
    "### 17.1 클래스 - `self` `__init__` `public/private 인스턴스 속성`\n",
    "-----------------------------------------------------------------------------\n",
    "* 파이썬의 모든 자료형은 클래스\n",
    "* 모든 메소드의 `첫 번째 매개변수`는 반드시 `self`\n",
    "* 메소드의 호출 : 인스턴스를 통해 호출 (`인스턴스명.메소드()`)\n",
    "* `__init__`메소드 : 인스턴스 생성 시 자동호출 (인스턴스 초기화)\n",
    "* 앞뒤로 `__(밑줄2개)`가 붙은 메소드는 파이썬이 자동으로 호출하는 메소드\n",
    "* `self` : 인스턴스 자기자신.\n",
    "* `self` : 인스턴스 생성 시 -> `__init__(self)`에서 self에 현재 인스턴스 대입\n",
    "* `self` : 메소드 호출 시 -> `메소드(self)`에서 self에 현재 인스턴스 대입\n",
    "\n",
    "* `일반(public) 인스턴스 속성` 접근 2가지 방법: \n",
    "    1. 메소드 내부에서 `self` 접근\n",
    "    2. 인스턴스 바깥에서 `인스턴스.속성` 접근 <br><br/>\n",
    "* `비공개(private) 인스턴스 속성` (`__속성`) 접근 1가지 방법: \n",
    "    1. 인스턴스 내부에서만 접근 가능. (변경도 인스턴스 내부 메소드로 한정) <br><br/>\n",
    "* `비공개(private) 메소드` : `def __함수명(self)`\n",
    "    1. 인스턴스 내부에서만 호출 가능 <br><br/>\n",
    " "
   ]
  },
  {
   "cell_type": "code",
   "execution_count": 97,
   "metadata": {},
   "outputs": [
    {
     "name": "stdout",
     "output_type": "stream",
     "text": [
      "이제 7000원 남았어요\n",
      "이제 -1000원 남았어요\n",
      "1000원이 입금되었습니다. 잔액은 0원입니다.\n"
     ]
    }
   ],
   "source": [
    "class Person:\n",
    "    def __init__(self, name, age, wallet):\n",
    "        self.name = name\n",
    "        self.age = age\n",
    "        self.__wallet = wallet # 비공개 속성\n",
    "    def pay(self, amount):\n",
    "        self.__wallet -= amount # 비공개 속성은 내부에서만 접근 가능\n",
    "        print(\"이제 %d원 남았어요\" %(self.__wallet))\n",
    "    def __depo(self, amount1): # 비공개 메소드\n",
    "        self.__wallet += amount1\n",
    "        print(\"%d원이 입금되었습니다. 잔액은 %d원입니다.\" %(amount1, self.__wallet))\n",
    "    def depo(self,amount1): # 비공개 메소드도 내부에서만 접근 가능\n",
    "        self.__depo(amount1)\n",
    "\n",
    "p1 = ['tom', 30, 10000]\n",
    "tom = Person(*p1)\n",
    "\n",
    "tom.pay(3000)\n",
    "tom.pay(8000)\n",
    "tom.depo(1000)"
   ]
  },
  {
   "cell_type": "markdown",
   "metadata": {},
   "source": [
    "### 17.2 클래스 - `public/private 클래스 속성`\n",
    "-----------------------------------------------------------------------------\n",
    "* `일반(public) 클래스 속성 (속성 = 값)` : 클래스에 속함. 모든 인스턴스가 공유\n",
    "    1. 메소드 내부에서 `클래스명.클래스속성`접근\n",
    "    2. 외부에서 `클래스명.클래스속성` 접근\n",
    "* `비공개(private) 클래스 속성 (__속성 = 값)` : 클래스 내부에서만 접근."
   ]
  },
  {
   "cell_type": "code",
   "execution_count": 110,
   "metadata": {},
   "outputs": [
    {
     "name": "stdout",
     "output_type": "stream",
     "text": [
      "['책', '열쇠', '지갑']\n",
      "['책', '열쇠', '지갑']\n",
      "['책', '열쇠', '지갑']\n"
     ]
    }
   ],
   "source": [
    "class Person:\n",
    "    bag = [] # 클래스 속성\n",
    "    __bag_limit = 3 # 비공개 클래스 속성\n",
    "    def put(self, stuff):\n",
    "        if (len(Person.bag)+1 <= Person.__bag_limit): # 비공개 클래스 속성은 클래스 내부에서만 접근\n",
    "            Person.bag.append(stuff)\n",
    "        else:\n",
    "            print('__bag_limit를 초과하여 넣을 수 없습니다.')\n",
    "\n",
    "tom = Person()\n",
    "tom.put('책')\n",
    "\n",
    "james = Person()\n",
    "james.put('열쇠')\n",
    "\n",
    "maria = Person()\n",
    "maria.put('지갑')\n",
    "\n",
    "print(tom.bag)\n",
    "print(james.bag)\n",
    "print(maria.bag)"
   ]
  },
  {
   "cell_type": "markdown",
   "metadata": {},
   "source": [
    "### 17.3 클래스 - `@staticmethod` `@classmethod`\n",
    "-----------------------------------------------------------------------------\n",
    "* 인스턴스 없이 클래스에서 바로 호출: `정적메소드` `클래스메소드`\n",
    "* `@`: 데코레이터. 메소드(함수)에 추가기능을 구현할 때 사용.\n",
    "* `정적메소드(@staticmethod)`: \n",
    "    1. 매개변수에 self 없음.\n",
    "    2. `순수함수의 집합`. 인스턴스 없이 결과만 구하면 될 때 사용. <br><br/>\n",
    "* `클래스메소드(@calssmethod)`:\n",
    "    1. 첫번째 매개변수 : `cls` (현재 클래스가 인자로 들어옴)\n",
    "    2. 메소드 안에서 `클래스 속성, 클래스 메소드에 접근`할 때 사용."
   ]
  },
  {
   "cell_type": "code",
   "execution_count": 115,
   "metadata": {},
   "outputs": [
    {
     "name": "stdout",
     "output_type": "stream",
     "text": [
      "5\n",
      "-1\n",
      "6\n",
      "0.6666666666666666\n"
     ]
    }
   ],
   "source": [
    "class Cal:\n",
    "    @staticmethod # 정적메소드\n",
    "    def add(a,b): # 정적메소드는 self 필요없다.\n",
    "        return a+b\n",
    "    @staticmethod\n",
    "    def sub(a,b):\n",
    "        return a-b\n",
    "    @staticmethod\n",
    "    def mul(a,b):\n",
    "        return a*b\n",
    "    @staticmethod\n",
    "    def div(a,b):\n",
    "        return a/b\n",
    "    \n",
    "print(Cal.add(2,3))\n",
    "print(Cal.sub(2,3))\n",
    "print(Cal.mul(2,3))\n",
    "print(Cal.div(2,3))"
   ]
  },
  {
   "cell_type": "code",
   "execution_count": 121,
   "metadata": {},
   "outputs": [
    {
     "name": "stdout",
     "output_type": "stream",
     "text": [
      "2개의 인스턴스 생성\n"
     ]
    }
   ],
   "source": [
    "# Person클래스의 인스턴스 갯수 출력\n",
    "\n",
    "class Person:    \n",
    "    count = 0 # 클래스 속성\n",
    "    \n",
    "    def __init__(self):\n",
    "        Person.count += 1\n",
    "    \n",
    "    @classmethod # 클래스메소드\n",
    "    def counter(cls): # cls: 현재 클래스\n",
    "        print('%d개의 인스턴스 생성' %(cls.count))\n",
    "    \n",
    "james = Person()\n",
    "tom = Person()\n",
    "\n",
    "Person.counter()"
   ]
  },
  {
   "cell_type": "markdown",
   "metadata": {},
   "source": [
    "## 18. 클래스 상속\n",
    "-----------------------------------------------------------------------------\n",
    "### 18.1 클래스 - 상속(`is-a`) 포함(`has-a`)\n",
    "-----------------------------------------------------------------------------\n",
    "* `부모`\n",
    "* `자식(부모)`\n",
    "* `상속(is-a)`: 기존 기능 재사용. 중복제거 - Student is a Person\n",
    "* `포함(has-a)`: 인스턴스들을 포함 - Plist has a Person"
   ]
  },
  {
   "cell_type": "code",
   "execution_count": 167,
   "metadata": {},
   "outputs": [
    {
     "name": "stdout",
     "output_type": "stream",
     "text": [
      "1시간 공부했다\n",
      "2시간 공부했다\n"
     ]
    }
   ],
   "source": [
    "# 상속 \n",
    "class Person:\n",
    "    hour = 0\n",
    "        \n",
    "class Student(Person):\n",
    "    def study(self):\n",
    "        Person.hour += 1\n",
    "        print(\"%d시간 공부했다\" %Person.hour)\n",
    "\n",
    "s = Student()\n",
    "s.study()\n",
    "s.study()"
   ]
  },
  {
   "cell_type": "code",
   "execution_count": 146,
   "metadata": {},
   "outputs": [
    {
     "name": "stdout",
     "output_type": "stream",
     "text": [
      "['tom', 'harry']\n"
     ]
    }
   ],
   "source": [
    "class Person:\n",
    "    def __init__(self, name):\n",
    "        self.name = name\n",
    "        \n",
    "class Plist:\n",
    "    def __init__(self):\n",
    "        self.plist=[] # 인스턴스들을 담을 리스트\n",
    "    def append(self,person):\n",
    "        self.plist.append(person.name)\n",
    "    def show(self):\n",
    "        print(self.plist)\n",
    "\n",
    "plist = Plist()\n",
    "plist.append(Person('tom'))\n",
    "plist.append(Person('harry'))\n",
    "plist.show()"
   ]
  },
  {
   "cell_type": "markdown",
   "metadata": {},
   "source": [
    "### 18.2 클래스 - 부모클래스 속성 사용하기(`super()`)\n",
    "--------------------------------------------------------------------\n",
    "* `부모클래스`의 `__init__`메소드가 호출되지 않으면 부모클래스의 속성도 만들어지지 않음.\n",
    "* `super().__init__` : 부모클래스의 `__init__`메소드 호출\n",
    "* `자식클래스에 __init__`메소드가 없으면 자동으로 `부모클래스의 __init__`메소드 호출"
   ]
  },
  {
   "cell_type": "code",
   "execution_count": 161,
   "metadata": {},
   "outputs": [
    {
     "name": "stdout",
     "output_type": "stream",
     "text": [
      "Student __init__\n",
      "Person __init__\n",
      "부모클래스\n"
     ]
    }
   ],
   "source": [
    "# super().__init__()\n",
    "class Person:\n",
    "    def __init__(self):\n",
    "        print('Person __init__')\n",
    "        self.parent = '부모클래스'\n",
    " \n",
    "class Student(Person):\n",
    "    def __init__(self):\n",
    "        print('Student __init__')\n",
    "        super().__init__() # 부모클래스 __init__() 호출\n",
    "        self.child = '자식클래스'\n",
    " \n",
    "james = Student()\n",
    "print(james.parent)    #  super().__init__() 없으면 Error.\n",
    "                      "
   ]
  },
  {
   "cell_type": "markdown",
   "metadata": {},
   "source": [
    "### 18.3 메소드 오버라이딩\n",
    "-------------------------------------------------------------------\n",
    "* `메소드 오버라이딩` : 자식클래스에서 부모클래스의 메소드를 새로 정의\n",
    "* `메소드 오버라이딩` : 원래 기능을 유지하면서 새로운 기능을 덧붙일 때 사용."
   ]
  },
  {
   "cell_type": "code",
   "execution_count": 170,
   "metadata": {},
   "outputs": [
    {
     "name": "stdout",
     "output_type": "stream",
     "text": [
      "Hello\n"
     ]
    }
   ],
   "source": [
    "class Person:\n",
    "    def hello(self):\n",
    "        print(\"안녕하세요\")\n",
    "class Student(Person):\n",
    "    def hello(self): # 메소드 오버라이딩\n",
    "        print(\"Hello\") # 부모클래스 덮어씀\n",
    "james = Student()\n",
    "james.hello()"
   ]
  },
  {
   "cell_type": "code",
   "execution_count": 169,
   "metadata": {},
   "outputs": [
    {
     "name": "stdout",
     "output_type": "stream",
     "text": [
      "안녕하세요\n",
      "Hello\n"
     ]
    }
   ],
   "source": [
    "class Person:\n",
    "    def hello(self):\n",
    "        print(\"안녕하세요\")\n",
    "class Student(Person):\n",
    "    def hello(self): # 메소드 오버라이딩\n",
    "        super().hello() # 원래의 기능을 유지하면서 새로운 기능을 덧붙일 때 사용\n",
    "        print(\"Hello\") # 부모클래스 덮어씀\n",
    "james = Student()\n",
    "james.hello()"
   ]
  },
  {
   "attachments": {
    "image.png": {
     "image/png": "[encoded data removed]"
    }
   },
   "cell_type": "markdown",
   "metadata": {},
   "source": [
    "### 18.4 다중상속 (`자식(부모1, 부모2)`)\n",
    "-------------------------------------------------------------------\n",
    "* `다중 상속` : 여러 부모로부터 상속\n",
    "* `다이아몬드 상속` : ![image.png](attachment:image.png)\n",
    "<br><br/>\n",
    "* `탐색 순서` : `클래스.mro()`(Method Resolution Order)\n",
    "* `object`클래스 : 모든 클래스의 조상"
   ]
  },
  {
   "cell_type": "code",
   "execution_count": 171,
   "metadata": {},
   "outputs": [
    {
     "name": "stdout",
     "output_type": "stream",
     "text": [
      "person 호출\n",
      "university 호출\n",
      "undergraduate 호출\n"
     ]
    }
   ],
   "source": [
    "# 다중상속\n",
    "\n",
    "class Person:\n",
    "    def person(self):\n",
    "        print(\"person 호출\")\n",
    "\n",
    "class University:\n",
    "    def university(self):\n",
    "        print(\"university 호출\")\n",
    "\n",
    "class Undergraduate(Person, University):\n",
    "    def undergraduate(self):\n",
    "        print(\"undergraduate 호출\")\n",
    "\n",
    "james = Undergraduate()\n",
    "james.person()\n",
    "james.university()\n",
    "james.undergraduate()"
   ]
  },
  {
   "cell_type": "code",
   "execution_count": 5,
   "metadata": {},
   "outputs": [
    {
     "name": "stdout",
     "output_type": "stream",
     "text": [
      "B 호출\n"
     ]
    },
    {
     "data": {
      "text/plain": [
       "[__main__.D, __main__.B, __main__.C, __main__.A, object]"
      ]
     },
     "execution_count": 5,
     "metadata": {},
     "output_type": "execute_result"
    }
   ],
   "source": [
    "# 다이아몬드 상속\n",
    "\n",
    "class A:\n",
    "    def f(self):\n",
    "        print(\"A 호출\")\n",
    "\n",
    "class B(A):\n",
    "    def f(self):\n",
    "        print(\"B 호출\")\n",
    "        \n",
    "class C(A):\n",
    "    def f(self):\n",
    "        print(\"C 호출\")\n",
    "        \n",
    "class D(B,C):\n",
    "    pass\n",
    "\n",
    "d = D()\n",
    "d.f() # B 호출\n",
    "D.mro() # 클래스.mro()"
   ]
  },
  {
   "cell_type": "markdown",
   "metadata": {},
   "source": [
    "### 18.5 추상클래스\n",
    "-------------------------------------------------------------------\n",
    "* `추상클래스`: 추상메소드만 가진 부모클래스. 자식클래스에서 반드시 추상메소드 구현해야 함.\n",
    "* `from abc import *` : abc(abstract base class)\n",
    "* `클래스(metaclass = ABCMeta)`\n",
    "* `@abstractmethod` : 메소드 위"
   ]
  },
  {
   "cell_type": "code",
   "execution_count": 7,
   "metadata": {},
   "outputs": [
    {
     "name": "stdout",
     "output_type": "stream",
     "text": [
      "study 호출\n"
     ]
    }
   ],
   "source": [
    "from abc import * # abc 모듈\n",
    "\n",
    "class StudentBase(metaclass = ABCMeta): # metaclass = ABCMeta\n",
    "    @abstractmethod # 추상메소드\n",
    "    def study(self):\n",
    "        pass\n",
    "    \n",
    "class Student(StudentBase): # 상속\n",
    "    def study(self): # 추상메소드를 반드시 구현해야 함\n",
    "        print('study 호출')\n",
    "\n",
    "james = Student()\n",
    "james.study()"
   ]
  },
  {
   "cell_type": "markdown",
   "metadata": {},
   "source": [
    "## 19. 두 점 사이의 거리\n",
    "-------------------------------------------------------------------------\n",
    "### 19.1 클래스로 점 구현\n",
    "-------------------------------------------------------------------------"
   ]
  },
  {
   "cell_type": "code",
   "execution_count": 8,
   "metadata": {},
   "outputs": [
    {
     "name": "stdout",
     "output_type": "stream",
     "text": [
      "p1: (30, 20)\n",
      "p2: (60, 50)\n"
     ]
    }
   ],
   "source": [
    "# 2차원 평면에서 x,y 좌표 클래스\n",
    "class Point2D:\n",
    "    def __init__(self, x, y):\n",
    "        self.x = x\n",
    "        self.y = y\n",
    "        \n",
    "p1 = Point2D(x=30, y=20)\n",
    "p2 = Point2D(x=60, y=50)\n",
    "\n",
    "print('p1: (%d, %d)' %(p1.x, p1.y))\n",
    "print('p2: (%d, %d)' %(p2.x, p2.y))"
   ]
  },
  {
   "cell_type": "markdown",
   "metadata": {},
   "source": [
    "### 19.2 피타고라스의 정리로 두 점의 거리\n",
    "-------------------------------------------------------------------------\n",
    "`import math` : math 모듈\n",
    "`math.sqrt()` : 루트(제곱근)"
   ]
  },
  {
   "cell_type": "code",
   "execution_count": 9,
   "metadata": {},
   "outputs": [
    {
     "name": "stdout",
     "output_type": "stream",
     "text": [
      "42.42640687119285\n"
     ]
    }
   ],
   "source": [
    "# a^2 + b^2 = c^2\n",
    "import math\n",
    "\n",
    "a = p2.x - p1.x\n",
    "b = p2.y - p1.y\n",
    "c = math.sqrt(a**2 + b**2)\n",
    "print(c) # 42.42640687119285"
   ]
  },
  {
   "cell_type": "markdown",
   "metadata": {},
   "source": [
    "### 19.3 namedtuple\n",
    "-------------------------------------------------------------------------\n",
    "* `import collections` : collecitons 모듈\n",
    "* `클래스 = collections.namedtuple('자료형이름', [요소이름1, 요소이름2])`"
   ]
  },
  {
   "cell_type": "code",
   "execution_count": 12,
   "metadata": {},
   "outputs": [
    {
     "name": "stdout",
     "output_type": "stream",
     "text": [
      "p1: (30, 20)\n",
      "p2: (60, 50)\n"
     ]
    }
   ],
   "source": [
    "import collections\n",
    "\n",
    "Point2D = collections.namedtuple('Point2D', ['x', 'y'])\n",
    "p1 = Point2D(x=30, y=20)\n",
    "p2 = Point2D(x=60, y=50)\n",
    "\n",
    "print('p1: (%d, %d)' %(p1.x, p1.y))\n",
    "print('p2: (%d, %d)' %(p2.x, p2.y))"
   ]
  },
  {
   "cell_type": "markdown",
   "metadata": {},
   "source": [
    "## 20. 예외처리\n",
    "------------------------------------------------------------------------\n",
    "### 20.1 `try` `except`\n",
    "------------------------------------------------------------------------\n"
   ]
  },
  {
   "cell_type": "code",
   "execution_count": 15,
   "metadata": {},
   "outputs": [
    {
     "name": "stdout",
     "output_type": "stream",
     "text": [
      "10 / n = ? 을 구하는 프로그램\n",
      "n = 'ㅇ'\n",
      "예외발생 invalid literal for int() with base 10: \"'ㅇ'\"\n"
     ]
    }
   ],
   "source": [
    "try:\n",
    "    print('10 / n = ? 을 구하는 프로그램')\n",
    "    x = int(input('n = '))\n",
    "    y = 10 / x\n",
    "    print(y)\n",
    "except ZeroDivisionError as e: # ZeroDivisionError 예외발생 시 실행\n",
    "    print('0으로 나눌 수 없습니다.', e)\n",
    "except Exception as e: # 모든 에러 메시지 출력\n",
    "    print('예외발생', e)\n",
    "    "
   ]
  },
  {
   "attachments": {
    "image.png": {
     "image/png": "[encoded data removed]"
    }
   },
   "cell_type": "markdown",
   "metadata": {},
   "source": [
    "### 20.2 `else` `finally`\n",
    "------------------------------------------------------------------------\n",
    "![image.png](attachment:image.png)"
   ]
  },
  {
   "cell_type": "code",
   "execution_count": 19,
   "metadata": {},
   "outputs": [
    {
     "name": "stdout",
     "output_type": "stream",
     "text": [
      "10 / n = ? 을 구하는 프로그램\n",
      "n = ㅇ\n",
      "에러발생 invalid literal for int() with base 10: 'ㅇ'\n",
      "**** finally실행 ****\n"
     ]
    }
   ],
   "source": [
    "try:\n",
    "    print('10 / n = ? 을 구하는 프로그램')\n",
    "    x = int(input('n = '))\n",
    "    y = 10 / x\n",
    "except ZeroDivisionError as e:\n",
    "    print('0으로 나눌 수 없습니다', e)\n",
    "except Exception as e:\n",
    "    print('에러발생', e)\n",
    "else:\n",
    "    print(y)\n",
    "finally:\n",
    "    print('**** finally실행 ****')"
   ]
  },
  {
   "cell_type": "markdown",
   "metadata": {},
   "source": [
    "### 20.3 예외발생 (`raise Exception`)\n",
    "------------------------------------------------------------------------\n",
    "* `raise` 아래에 있는 코드는 실행되지 않고 바로 except로 넘어감\n",
    "* 예외가 발생하면 `except 발견할 때까지` 계속 `상위 코드 블록`으로 올라감"
   ]
  },
  {
   "cell_type": "code",
   "execution_count": 20,
   "metadata": {},
   "outputs": [
    {
     "name": "stdout",
     "output_type": "stream",
     "text": [
      "3의 배수 입력: 5\n",
      "에러발생 \n"
     ]
    }
   ],
   "source": [
    "# 3의 배수가 아니면 예외발생\n",
    "def three_mul():\n",
    "    x = int(input('3의 배수 입력: '))\n",
    "    if (x%3 != 0):\n",
    "        raise Exception\n",
    "    print(x)\n",
    "\n",
    "try:\n",
    "    three_mul()\n",
    "except Exception as e:\n",
    "    print(\"에러발생\", e)"
   ]
  },
  {
   "attachments": {
    "image.png": {
     "image/png": "[encoded data removed]"
    }
   },
   "cell_type": "markdown",
   "metadata": {},
   "source": [
    "### 20.4 예외만들기\n",
    "------------------------------------------------------------------------\n",
    "* `Exception`상속받아서 새로운 클래스 생성\n",
    "![image.png](attachment:image.png)"
   ]
  },
  {
   "cell_type": "code",
   "execution_count": 22,
   "metadata": {},
   "outputs": [
    {
     "name": "stdout",
     "output_type": "stream",
     "text": [
      "3의 배수 입력: 5\n",
      "예외발생\n"
     ]
    }
   ],
   "source": [
    "class MyError(Exception): # Exception 상속\n",
    "    def __init__(self):\n",
    "        super().__init__('사용자 정의 에러')\n",
    "\n",
    "def three_mul():\n",
    "    try:\n",
    "        x = int(input('3의 배수 입력: '))\n",
    "        if (x%3 != 0):\n",
    "            raise MyError\n",
    "        print(x)\n",
    "    except Exception as e:\n",
    "        print('예외발생')\n",
    "        \n",
    "three_mul()"
   ]
  },
  {
   "cell_type": "markdown",
   "metadata": {},
   "source": [
    "## 21. 이터레이터\n",
    "------------------------------------------------------------------------\n",
    "* `이터레이터(iterator)` : 값을 차례대로 꺼낼 수 있는 객체\n",
    "* `range(10)` : 0~9까지의 값을 꺼낼 수 있는 이터레이터.\n",
    "* `파이썬에서 이터레이터(iterator)` : 이터레이터 생성 후 필요한 시점에 값 생성.\n",
    "\n",
    "### 21.1 iterable 객체\n",
    "------------------------------------------------------------------------\n",
    "* `dir(객체)` : `__iter__()`메소드 들어있으면 `iterable 객체`\n",
    "* `__iter__()` : 이터레이터 생성\n",
    "* `__next__()` : 요소 차례대로 꺼내기 --> 끝나면 `StopIteration`발생"
   ]
  },
  {
   "cell_type": "code",
   "execution_count": 29,
   "metadata": {},
   "outputs": [
    {
     "name": "stdout",
     "output_type": "stream",
     "text": [
      "['__add__', '__class__', '__contains__', '__delattr__', '__delitem__', '__dir__', '__doc__', '__eq__', '__format__', '__ge__', '__getattribute__', '__getitem__', '__gt__', '__hash__', '__iadd__', '__imul__', '__init__', '__init_subclass__', '__iter__', '__le__', '__len__', '__lt__', '__mul__', '__ne__', '__new__', '__reduce__', '__reduce_ex__', '__repr__', '__reversed__', '__rmul__', '__setattr__', '__setitem__', '__sizeof__', '__str__', '__subclasshook__', 'append', 'clear', 'copy', 'count', 'extend', 'index', 'insert', 'pop', 'remove', 'reverse', 'sort']\n",
      "1\n",
      "2\n"
     ]
    }
   ],
   "source": [
    "print(dir([1,2,3])) # __iter__() 포함 --> iterable 객체\n",
    "\n",
    "it = [1,2,3].__iter__() # __iter__() 이터레이터 생성\n",
    "\n",
    "print(it.__next__()) # __next__()\n",
    "print(it.__next__())"
   ]
  },
  {
   "cell_type": "markdown",
   "metadata": {},
   "source": [
    "### 21.2 이터레이터 언패킹\n",
    "------------------------------------------------------------------------\n",
    "* 이터레이터는 변수 여러개에 할당 가능."
   ]
  },
  {
   "cell_type": "code",
   "execution_count": 35,
   "metadata": {},
   "outputs": [
    {
     "name": "stdout",
     "output_type": "stream",
     "text": [
      "1 2 3\n"
     ]
    }
   ],
   "source": [
    "a, b, c = [1, 2, 3].__iter__()\n",
    "print(a, b, c)"
   ]
  },
  {
   "cell_type": "markdown",
   "metadata": {},
   "source": [
    "### 21.3 `iter()` `next()`\n",
    "------------------------------------------------------------------------\n",
    "* `iter()` == `__iter__()`\n",
    "* `next()` == `__next__()`\n",
    "<br><br/>\n",
    "\n",
    ">  `iterable 객체` = `iter(callable 객체, 끝낼값)`  \n",
    "> `next(iterable 객체)` : 끝나면 `StopIteration` 발생  \n",
    "> `next(iterable 객체, 기본값)` : 끝나면 `기본값`출력"
   ]
  },
  {
   "cell_type": "code",
   "execution_count": 51,
   "metadata": {},
   "outputs": [
    {
     "name": "stdout",
     "output_type": "stream",
     "text": [
      "0 5 1 9 9 2 7 9 "
     ]
    }
   ],
   "source": [
    "# iter(callable 객체, 끝낼값)\n",
    "\n",
    "import random\n",
    "it = iter(lambda: random.randint(0,10), 8) # 8일때 끝남\n",
    "for i in it:\n",
    "    print(i, end=' ')"
   ]
  },
  {
   "cell_type": "code",
   "execution_count": 52,
   "metadata": {},
   "outputs": [
    {
     "name": "stdout",
     "output_type": "stream",
     "text": [
      "0\n",
      "1\n",
      "2\n",
      "-1\n",
      "-1\n",
      "-1\n",
      "-1\n",
      "-1\n",
      "-1\n",
      "-1\n"
     ]
    }
   ],
   "source": [
    "# next(iterable 객체, 기본값)\n",
    "it = iter(range(3))\n",
    "for i in range(10):\n",
    "    print(next(it, -1)) # 0 1 2 이후, -1 출력"
   ]
  },
  {
   "cell_type": "markdown",
   "metadata": {},
   "source": [
    "## 22. 제네레이터\n",
    "------------------------------------------------------------------------\n",
    "* `제네레이터` : `yield`에서 값을 발생(generate)하는 함수이자 이터레이터\n",
    "* `yield` : 함수 안에서 `yield`사용하면 함수는 `제네레이터`가 된다.\n",
    "* `yield` : 값(변수) 지정\n",
    "* `next() 반환` : `yield`에 지정한 값\n",
    "* `return != yield` : \n",
    "    1. `return`: 반환 즉시 함수 종료. \n",
    "    2. `yield`: 반환 후 대기(중지)\n",
    "<br><br/>\n",
    "\n",
    "* `yield(생산하다, 양보하다)`를 사용하면 값을 함수 외부로 전달하면서 실행을 중단하고 함수 외부의 코드를 실행\n"
   ]
  },
  {
   "cell_type": "code",
   "execution_count": 59,
   "metadata": {},
   "outputs": [
    {
     "name": "stdout",
     "output_type": "stream",
     "text": [
      "0\n",
      "1\n",
      "2\n"
     ]
    }
   ],
   "source": [
    "def num_generator():\n",
    "    yield 0\n",
    "    yield 1\n",
    "    yield 2\n",
    "\n",
    "g = num_generator()\n",
    "print(next(g))\n",
    "print(next(g))\n",
    "print(next(g))"
   ]
  },
  {
   "cell_type": "markdown",
   "metadata": {},
   "source": [
    "### 22.1 제네레이터로 range() 만들기\n",
    "----------------------------------------------------------------------\n"
   ]
  },
  {
   "cell_type": "code",
   "execution_count": 60,
   "metadata": {},
   "outputs": [
    {
     "name": "stdout",
     "output_type": "stream",
     "text": [
      "0\n",
      "1\n",
      "2\n"
     ]
    }
   ],
   "source": [
    "def range_generator(end):\n",
    "    n = 0\n",
    "    while (n < end):\n",
    "        yield n\n",
    "        n += 1\n",
    "\n",
    "for i in range_generator(3):\n",
    "    print(i)"
   ]
  },
  {
   "cell_type": "markdown",
   "metadata": {},
   "source": [
    "### 22.2 `yield from`\n",
    "---------------------------------------------------------------------------\n",
    "```\n",
    "요소들을 한 개씩 전달\n",
    "```\n",
    "-----------------------------------------------------------\n",
    "* `yield from` iterable 객체\n",
    "* `yield from` 이터레이터\n",
    "* `yield from` 제너레이터 객체"
   ]
  },
  {
   "cell_type": "code",
   "execution_count": 62,
   "metadata": {},
   "outputs": [
    {
     "name": "stdout",
     "output_type": "stream",
     "text": [
      "1\n",
      "2\n",
      "3\n"
     ]
    }
   ],
   "source": [
    "# for문 이용\n",
    "def num_generator():\n",
    "    x = [1,2,3]\n",
    "    for i in x:\n",
    "        yield i\n",
    "\n",
    "for i in num_generator():\n",
    "    print(i)"
   ]
  },
  {
   "cell_type": "code",
   "execution_count": 61,
   "metadata": {},
   "outputs": [
    {
     "name": "stdout",
     "output_type": "stream",
     "text": [
      "1\n",
      "2\n",
      "3\n"
     ]
    }
   ],
   "source": [
    "# yield from 이용\n",
    "def num_generator():\n",
    "    x = [1,2,3]\n",
    "    yield from x\n",
    "\n",
    "for i in num_generator():\n",
    "    print(i)"
   ]
  },
  {
   "cell_type": "markdown",
   "metadata": {},
   "source": [
    "## 23. 코루틴 - 기본(수정예정)\n",
    "------------------------------------------------------\n",
    "* 일반적인 함수 호출:\n",
    "> 메인 루틴에서 서브 루틴을 호출하면 서브 루틴의 코드를 실행한 뒤 다시 메인으로 돌아옴. 서브루틴이 끝나면 서브루틴의 내용은 모두 사라짐\n",
    "* 코루틴:\n",
    "> 대등한 관계. 함수가 종료되지 않은 상태에서 메인 루틴의 코드 실행 후 다시 돌아와서 코루틴의 코드를 실행.\n",
    "\n",
    "* `코루틴`:\n",
    "    1. `next()`: 코루틴 최초 실행. `(yield)까지` 실행\n",
    "    2. `send()`: 메인루틴에서 코루틴에 `값`을 보냄. (메인루틴 중단 / 코루틴 재개)\n",
    "    3. `(yield)`: 코루틴에서 `send`가 보낸 값을 받음 (메인루틴 실행/ 코루틴 중단)\n",
    "    4. `close()`: 코루틴 강제 종료\n",
    "  "
   ]
  },
  {
   "cell_type": "code",
   "execution_count": 64,
   "metadata": {},
   "outputs": [
    {
     "name": "stdout",
     "output_type": "stream",
     "text": [
      "0 1 2 3 4 5 6 7 8 9 10 11 12 13 14 15 16 17 18 19 "
     ]
    }
   ],
   "source": [
    "def num_coroutine():\n",
    "    while True: # 코루틴을 유지하기 위해 무한루프\n",
    "        x = (yield) # (yield): 외부에서 값을 받아옴\n",
    "        print(x, end=' ')\n",
    "\n",
    "co = num_coroutine()\n",
    "\n",
    "next(co) # next(): yield까지 코루틴 최초실행.\n",
    "for i in range(20):\n",
    "    co.send(i) # send(): 코루틴에 1 ~ 19 보냄\n",
    "co.close() # close(): 코루틴 강제종료"
   ]
  },
  {
   "attachments": {
    "image.png": {
     "image/png": "[encoded data removed]"
    }
   },
   "cell_type": "markdown",
   "metadata": {},
   "source": [
    "## 24. 데코레이터\n",
    "------------------------------------------------------------------\n",
    "### 24.1 데코레이터 기본\n",
    "------------------------------------------------------------\n",
    "* `@데코레이터` : 함수를 장식하는 함수(기존함수를 수정하지 않으면서 `추가 기능`을 구현)\n",
    "* `@데코레이터 return값` : 내부의 함수를 return (클로저)\n",
    "![image.png](attachment:image.png)\n",
    "> `함수`를 호출하면 자동으로 `@데코레이터 함수`의 인자로 `함수`전달.  \n",
    "즉, 함수를 실행하면 `@데코레이터` 자동 실행\n",
    "* 중첩된 `@데코레이터`\n",
    "![image.png](attachment:image.png)\n",
    "> `@데코레이터`가 실행되는 순서는 위에서 아래 순."
   ]
  },
  {
   "cell_type": "code",
   "execution_count": 68,
   "metadata": {},
   "outputs": [
    {
     "name": "stdout",
     "output_type": "stream",
     "text": [
      "hello 시작\n",
      "hello\n",
      "hello 끝\n",
      "\n",
      "world 시작\n",
      "world\n",
      "world 끝\n",
      "\n"
     ]
    }
   ],
   "source": [
    "# 데코레이터를 사용하지 않고 추가기능 구현\n",
    "\n",
    "def trace(func): # 클로저: 내부함수 반환 \n",
    "    def wrapper(): # 호출할 함수를 감싼다\n",
    "        print(func.__name__, '시작') # __name__ : 함수 이름 출력\n",
    "        func()\n",
    "        print(func.__name__, '끝\\n')\n",
    "    return wrapper # 내부함수 반환\n",
    "\n",
    "def hello():\n",
    "    print('hello')\n",
    "\n",
    "def world():\n",
    "    print('world')\n",
    "\n",
    "trace_hello = trace(hello) # 데코레이터에서 반환된 함수\n",
    "trace_hello()\n",
    "\n",
    "trace_world = trace(world)\n",
    "trace_world()"
   ]
  },
  {
   "attachments": {
    "image.png": {
     "image/png": "[encoded data removed]"
    }
   },
   "cell_type": "markdown",
   "metadata": {},
   "source": [
    "![image.png](attachment:image.png)"
   ]
  },
  {
   "cell_type": "code",
   "execution_count": 71,
   "metadata": {
    "scrolled": true
   },
   "outputs": [
    {
     "name": "stdout",
     "output_type": "stream",
     "text": [
      "hello 시작\n",
      "hello\n",
      "hello 끝\n",
      "\n",
      "world 시작\n",
      "world\n",
      "world 끝\n",
      "\n"
     ]
    }
   ],
   "source": [
    "# 데코레이터를 사용해 추가기능 구현\n",
    "\n",
    "def trace(func): # 클로저: 내부함수 반환 \n",
    "    def wrapper(): # 호출할 함수를 감싼다\n",
    "        print(func.__name__, '시작') # __name__ : 함수 이름 출력\n",
    "        func()\n",
    "        print(func.__name__, '끝\\n')\n",
    "    return wrapper \n",
    "\n",
    "@trace\n",
    "def hello():\n",
    "    print('hello')\n",
    "\n",
    "@trace\n",
    "def world():\n",
    "    print('world')\n",
    "\n",
    "hello()\n",
    "world()"
   ]
  },
  {
   "attachments": {
    "image.png": {
     "image/png": "[encoded data removed]"
    }
   },
   "cell_type": "markdown",
   "metadata": {},
   "source": [
    "![image.png](attachment:image.png)"
   ]
  },
  {
   "cell_type": "code",
   "execution_count": 2,
   "metadata": {},
   "outputs": [
    {
     "name": "stdout",
     "output_type": "stream",
     "text": [
      "-- decorator1 --\n",
      "-- decorator2 --\n",
      "hello\n"
     ]
    }
   ],
   "source": [
    "def decorator1(func):\n",
    "    def wrapper():\n",
    "        print('-- decorator1 --')\n",
    "        # @decorator2 \n",
    "        # def hello():\n",
    "        #     print('hello') 실행\n",
    "        func()\n",
    "    return wrapper\n",
    "\n",
    "def decorator2(func):\n",
    "    def wrapper():\n",
    "        print('-- decorator2 --')\n",
    "        func()\n",
    "    return wrapper\n",
    "\n",
    "@decorator1\n",
    "@decorator2\n",
    "def hello():\n",
    "    print('hello')\n",
    "    \n",
    "hello()"
   ]
  },
  {
   "cell_type": "markdown",
   "metadata": {},
   "source": [
    "### 24.2 `매개변수` `return값` 있는 함수의 데코레이터\n",
    "-------------------------------------------------------------------\n",
    "1. `매개변수` `return값` 있는 일반 함수\n",
    "2. `매개변수` `return값` 있는 `가변인수` 함수"
   ]
  },
  {
   "cell_type": "code",
   "execution_count": 9,
   "metadata": {},
   "outputs": [
    {
     "name": "stdout",
     "output_type": "stream",
     "text": [
      "1 + 2 = 3\n"
     ]
    },
    {
     "data": {
      "text/plain": [
       "3"
      ]
     },
     "execution_count": 9,
     "metadata": {},
     "output_type": "execute_result"
    }
   ],
   "source": [
    "# 일반함수\n",
    "\n",
    "def trace(func): # 매개변수 : 함수\n",
    "    def wrapper(a, b): # 매개변수 : 함수의 매개변수\n",
    "        print('%d + %d = %d' %(a,b,func(a,b)))\n",
    "        return func(a,b) # add()함수의 return값\n",
    "    return wrapper \n",
    "\n",
    "@trace\n",
    "def add(a, b):\n",
    "    return a + b\n",
    "\n",
    "a = add(1,2)\n",
    "a"
   ]
  },
  {
   "cell_type": "code",
   "execution_count": 20,
   "metadata": {},
   "outputs": [
    {
     "name": "stdout",
     "output_type": "stream",
     "text": [
      "get_max (args = (10, 20, 30, 40), kwargs = {}) = 40\n",
      "get_min (args = (), kwargs = {'x': 10, 'y': 20, 'z': 30}) = 10\n"
     ]
    },
    {
     "data": {
      "text/plain": [
       "10"
      ]
     },
     "execution_count": 20,
     "metadata": {},
     "output_type": "execute_result"
    }
   ],
   "source": [
    "# 가변인수 함수\n",
    "\n",
    "def trace(func):\n",
    "    def wrapper(*args, **kwargs): # args(튜플), kwargs(딕셔너리) 모두 받을 수 있도록\n",
    "        r = func(*args, **kwargs) # args(튜플), kwargs(딕셔너리) 언패킹하여 넣어줌\n",
    "        print(func.__name__,'(args = {0}, kwargs = {1}) = {2}'.format(args, kwargs, r))\n",
    "        return r\n",
    "    return wrapper\n",
    "\n",
    "@trace\n",
    "def get_max(*args): # 가변인수 함수\n",
    "    return max(args)\n",
    "@trace\n",
    "def get_min(**kwargs): # 가변인수 함수\n",
    "    return min(kwargs.values())\n",
    "\n",
    "get_max(10,20,30,40)\n",
    "get_min(x=10, y=20, z=30)"
   ]
  },
  {
   "cell_type": "markdown",
   "metadata": {},
   "source": [
    "### 24.3 `매개변수` 있는 데코레이터\n",
    "-----------------------------------------------------------------------"
   ]
  },
  {
   "cell_type": "code",
   "execution_count": 22,
   "metadata": {},
   "outputs": [
    {
     "name": "stdout",
     "output_type": "stream",
     "text": [
      "[3 + 4 = 7]이며, [3]배수가 아닙니다.\n"
     ]
    },
    {
     "data": {
      "text/plain": [
       "7"
      ]
     },
     "execution_count": 22,
     "metadata": {},
     "output_type": "execute_result"
    }
   ],
   "source": [
    "def param(x): # 매개변수를 받는다\n",
    "    def trace(func):\n",
    "        def wrapper(a,b):\n",
    "            r = func(a,b)\n",
    "            if(r % x == 0):\n",
    "                print('[%d + %d = %d]이며, [%d]배수입니다.' %(a,b,r,x))\n",
    "            else:\n",
    "                print('[%d + %d = %d]이며, [%d]배수가 아닙니다.' %(a,b,r,x))\n",
    "            return r\n",
    "        return wrapper\n",
    "    return trace\n",
    "\n",
    "@param(3) # 매개변수가 있는 데코레이터\n",
    "def add(a,b):\n",
    "    return a+b\n",
    "\n",
    "add(3,4)\n"
   ]
  },
  {
   "cell_type": "markdown",
   "metadata": {},
   "source": [
    "## 25. 정규표현식 (regular expression)\n",
    "-----------------------------------------------------------------------------------------------------\n",
    "### 25.1 `re.match('패턴', '문자열')` `re.search('패턴', '문자열')` `re.compile('패턴')`\n",
    "-----------------------------------------------------------------------------------------------------\n",
    "* `정규표현식`: 일정한 패턴을 가진 문자열을 표현하는 방법\n",
    "* import `re` : (패턴 있으면 매치(SRE_Match)객체 반환)\n",
    "<br><br/>\n",
    "* `re.match('패턴|패턴', '문자열')` : 특정 패턴 포함\n",
    "> * `*` : 0개 이상\n",
    "> * `+` : 1개 이상\n",
    "> * `?` : 0개 또는 1개\n",
    "> * `.` : 아무문자(숫자) 1개\n",
    "> * `[a-zA-Z0-9]` : a-z, A-Z, 0-9 범위\n",
    "> * `문자{개수}` : 정확히 몇 개\n",
    "> * `(문자열){개수}` : 정확히 몇 개\n",
    "> * `[범위]{개수}` : 특정 범위의 문자(숫자) 몇 개\n",
    "> * `[^범위]+` : 해당 범위 제외 (ex. `[^A-Z]+` : 대문자 제외)\n",
    "> * `^[범위]+` : 해당 범위로 시작 (ex. `^[A-Z]+` : 대문자 시작)\n",
    "> * `[범위]+$` : 해당 범위로 끝 (ex. `[A-Z]+$` : 대문자 끝)\n",
    "> * `\\특수문자+` : 특수문자 판단 (ex. `'\\*+'` : * 포함 판단)\n",
    "> * `[특수문자]` : `[]`범위에서는 `\\`없어도 된다 (ex. `[$()]+` : `$`, `(`, `)` 포함 판단)\n",
    "> * ` `: 공백 포함. [ \\t\\n\\r\\f\\v]와 같음. 공백(스페이스), \\t(탭) \\n(새 줄, 라인 피드), \\r(캐리지 리턴), \\f(폼피드), \\v(수직 탭)을 포함 \n",
    "> * `\\d` : `[0-9]` 모든 숫자\n",
    "> * `\\D` : `[^0-9]` 모든 문자\n",
    "> * `\\w` : `[a-zA-Z0-9_]` 모든문자 + 모든 숫자 + 밑줄문자(\\_)\n",
    "> * `\\W` : `[^a-zA-Z0-9_]` (모든문자 + 모든 숫자 + 밑줄문자(\\_)) 제외\n",
    "\n",
    "> ##### 정규표현식 패턴 반복사용\n",
    "> * `객체 = re.compile('패턴')` : `compile()`함수로 정규표현식 패턴을 `객체`로 만듦\n",
    "> * `객체.match/search('문자열')` : `객체`에 `match()`, `search()` 함수 호출  \n",
    "\n",
    "<br><br/>\n",
    "\n",
    "* `re.search('^패턴', '문자열')` : 패턴이 맨 앞 \n",
    "* `re.search('패턴$', '문자열')` : 패턴이 맨 뒤 \n"
   ]
  },
  {
   "cell_type": "code",
   "execution_count": 42,
   "metadata": {},
   "outputs": [
    {
     "name": "stdout",
     "output_type": "stream",
     "text": [
      "<re.Match object; span=(0, 13), match='010-1234-5678'>\n",
      "<re.Match object; span=(0, 11), match='$(document)'>\n",
      "<re.Match object; span=(14, 19), match='world'>\n",
      "<re.Match object; span=(0, 5), match='hello'>\n"
     ]
    }
   ],
   "source": [
    "import re\n",
    "print(re.match('[0-9]{3}-[0-9]{4}-[0-9]{4}', '010-1234-5678')) # 전화번호 패턴\n",
    "print(re.match('[$()a-zA-Z0-9]+', '$(document)*^')) # $(document) 패턴\n",
    "print(re.search('world$', 'hello fucking world')) # 패턴이 맨 앞\n",
    "print(re.search('^hello', 'hello fucking world')) # 패턴이 맨 뒤"
   ]
  },
  {
   "cell_type": "markdown",
   "metadata": {},
   "source": [
    "### 25.2 정규표현식 그룹\n",
    "-----------------------------------------------------------------------------------------------------\n",
    "* `(정규표현식) (정규표현식)` : 해당 그룹과 일치하는 문자열을 얻어옴\n",
    "<br><br/>\n",
    "* `그룹숫자`로 문자열 얻기\n",
    "> * 객체 = re.match(`(정규표현식)` `(정규표현식)`)\n",
    "> * 객체.`group(그룹숫자)`\n",
    "> * 객체.`group()` : 매칭된 모든 문자열 반환\n",
    "<br><br/>\n",
    "* `그룹이름`으로 문자열 얻기\n",
    "> * 객체 = re.match(`(?P<이름>정규표현식)` `(?P<이름>정규표현식)`)\n",
    "> * 객체.`group('그룹이름')`\n",
    "<br><br/>\n",
    "* 패턴에 일치하는 `모든 문자열`가져오기\n",
    "> * `re.findall('패턴', '문자열')`"
   ]
  },
  {
   "cell_type": "code",
   "execution_count": 48,
   "metadata": {},
   "outputs": [
    {
     "data": {
      "text/plain": [
       "'1234'"
      ]
     },
     "execution_count": 48,
     "metadata": {},
     "output_type": "execute_result"
    }
   ],
   "source": [
    "# print(1234)에서 print, 1234 추출\n",
    "\n",
    "m = re.match('(?P<func>[a-z]+)\\((?P<arg>[0-9]+)\\)', 'print(1234)')\n",
    "m.group('func')\n",
    "m.group('arg')"
   ]
  },
  {
   "cell_type": "code",
   "execution_count": 49,
   "metadata": {},
   "outputs": [
    {
     "data": {
      "text/plain": [
       "['1', '2', '4', '7', '8']"
      ]
     },
     "execution_count": 49,
     "metadata": {},
     "output_type": "execute_result"
    }
   ],
   "source": [
    "re.findall('[0-9]+', '1 2 Fizz 4 Buzz Fizz 7 8')"
   ]
  },
  {
   "cell_type": "markdown",
   "metadata": {},
   "source": [
    "### 25.3 문자열 바꾸기\n",
    "--------------------------------------------------------------------------------------------\n",
    "* 특정 문자열을 찾은 뒤 다른 문자열로 바꿈\n",
    "* `re.sub('패턴', '바꿀문자열', '문자열')`\n",
    "* `re.sub('패턴', 교체함수, '문자열')`\n",
    "<br><br/>\n",
    "* 매칭된 문자열을 결과에 사용\n",
    "* `re.sub('(정규표현식)(정규표현식)', '\\\\그룹숫자2 \\\\그룹숫자1', '문자열')` : 그룹 2, 1 순으로 바꿈\n"
   ]
  },
  {
   "cell_type": "code",
   "execution_count": 56,
   "metadata": {},
   "outputs": [
    {
     "name": "stdout",
     "output_type": "stream",
     "text": [
      "n n Fizz n Buzz Fizz n n\n"
     ]
    },
    {
     "data": {
      "text/plain": [
       "'100 200 Fizz 400 Buzz Fizz 700 800'"
      ]
     },
     "execution_count": 56,
     "metadata": {},
     "output_type": "execute_result"
    }
   ],
   "source": [
    "# 숫자 -> n\n",
    "print(re.sub('[0-9+]', 'n', '1 2 Fizz 4 Buzz Fizz 7 8'))\n",
    "\n",
    "# 숫자 -> 숫자*100\n",
    "def mul_10(m): # 매개변수 m: match객체\n",
    "    n = int(m.group()) # m.group(): 매칭된 모든 문자열 반환\n",
    "    return str(n*100)\n",
    "\n",
    "re.sub('[0-9]+', mul_10, '1 2 Fizz 4 Buzz Fizz 7 8')"
   ]
  },
  {
   "cell_type": "code",
   "execution_count": 58,
   "metadata": {},
   "outputs": [
    {
     "data": {
      "text/plain": [
       "'1234 hello'"
      ]
     },
     "execution_count": 58,
     "metadata": {},
     "output_type": "execute_result"
    }
   ],
   "source": [
    "# hello 1234 -> 1234 hello\n",
    "re.sub('([a-z]+) ([0-9]+)', '\\\\2 \\\\1', 'hello 1234')"
   ]
  },
  {
   "cell_type": "code",
   "execution_count": 59,
   "metadata": {},
   "outputs": [
    {
     "name": "stdout",
     "output_type": "stream",
     "text": [
      "True True True True True False False False "
     ]
    }
   ],
   "source": [
    "# 이메일 주소 검사\n",
    "\n",
    "import re\n",
    "\n",
    "p = re.compile('^[a-zA-Z0-9_-]+@[a-z]+\\.[a-z.]+$')\n",
    "emails = ['python@mail.example.com', 'python-kr@example.com',           # 올바른 형식\n",
    "          'python-dojang@example.ac.kr', 'python_10@example.info',      # 올바른 형식\n",
    "          'pythondojang@example.com',                                   # 올바른 형식\n",
    "          '@example.com', 'python@example', 'python@example-com']       # 잘못 됨 \n",
    "for i in emails:\n",
    "    print(p.match(i) != None, end=' ')"
   ]
  },
  {
   "cell_type": "markdown",
   "metadata": {},
   "source": [
    "## 26. 모듈과 패키지\n",
    "--------------------------------------------------------------------------------------------\n",
    "* `모듈`: 각종 변수, 함수, 클래스를 담고 있는 `.py`파일\n",
    "* `패키지`: 여러 모듈을 묶은 것\n",
    "* `표준 라이브러리`: 기본으로 설치된 모듈, 패키지, 내장함수\n",
    "<br><br/>\n",
    "> `from` 모듈 `import` 변수/함수/클래스 `as` 이름  \n",
    "> `import` 모듈 `as` 이름  \n",
    "<br><br/>\n",
    "> `from` 패키지.모듈 `import` 변수/함수/클래스 `as` 이름  \n",
    "> `import` 패키지.모듈 `as` 이름  "
   ]
  },
  {
   "cell_type": "code",
   "execution_count": 65,
   "metadata": {},
   "outputs": [],
   "source": [
    "from urllib.request import Request as r, urlopen as u\n",
    "req = r('http://www.google.com')\n",
    "response = u(req)"
   ]
  },
  {
   "cell_type": "markdown",
   "metadata": {},
   "source": [
    "## 27. 웹의 데이터 가져온 뒤 그래프로 그리기 \n",
    "--------------------------------------------------------------------------------------------------\n",
    "1. 크롤링\n",
    "> 1-1 웹페이지에서 `HTML` 가져오기  \n",
    "> 1-2 HTML에서 `필요한 데이터`만 `파일`로 저장\n",
    "2. 전처리\n",
    "> 그래프로 그릴 수 있도록 `데이터 가공`\n",
    "3. 시각화\n",
    "> 가공된 데이터로 `그래프` 그리기\n",
    "---------------------------------------------------------------------------------------------------"
   ]
  },
  {
   "cell_type": "markdown",
   "metadata": {},
   "source": [
    "### 27.1 크롤링 & 전처리 - 웹에서 HTML 가져와서 파일로 저장\n",
    "----------------------------------------------------------------------------------\n",
    "* [기상청](http://www.weather.go.kr/weather/observation/currentweather.jsp) 에서 지점, 현재기온, 습도 가져와서 .csv파일로 저장\n",
    "* `F12`: 크롬 개발자도구\n",
    "* (`Ctrl+Shift+C`): 커서에 해당하는 HTML코드 표시\n",
    "> * `requests`모듈 : 웹페이지에서 `HTML 가져옴`\n",
    "> * `bs4`모듈 : `HTML 파싱` (텍스트 형태의 HTML코드를 분석해서 `객체화` <- 검색/편집 목적)\n",
    "----------------------------------------------------------------------------------\n",
    "#### 27.1.1 웹에서 HTML 가져오기\n",
    "-------------------------------------------------------------------------------\n",
    "* response객체 반환\n",
    "``` \n",
    "response = requests.get('URL')\n",
    "```\n",
    "\n",
    "#### 27.1.2 HTML 파싱\n",
    "-------------------------------------------------------------------------------\n",
    "* BeautifulSoup객체 반환\n",
    "* `.content`: 텍스트 형태 HTML\n",
    "* `html.pareser`: 파싱. 파이썬의 모듈\n",
    "```\n",
    "soup = BeautifulSoup(response.content, 'html.parser')\n",
    "```"
   ]
  },
  {
   "cell_type": "code",
   "execution_count": 74,
   "metadata": {},
   "outputs": [
    {
     "data": {
      "text/plain": [
       "[['강릉', '23.1', '69'],\n",
       " ['강진군', '19.0', '90'],\n",
       " ['강화', '20.8', '81'],\n",
       " ['거제', '18.9', '86'],\n",
       " ['거창', '19.5', '92'],\n",
       " ['경주시', '19.5', '90'],\n",
       " ['고산', '21.5', '79'],\n",
       " ['고창', '20.9', '96'],\n",
       " ['고창군', '20.7', '87'],\n",
       " ['고흥', '17.0', '99'],\n",
       " ['광양시', '20.9', '80'],\n",
       " ['광주', '21.7', '90'],\n",
       " ['구미', '22.3', '91'],\n",
       " ['군산', '22.5', '85'],\n",
       " ['금산', '24.0', '74'],\n",
       " ['김해시', '21.2', '78'],\n",
       " ['남원', '22.5', '77'],\n",
       " ['남해', '18.7', '84'],\n",
       " ['대관령', '17.0', '78'],\n",
       " ['대구', '23.7', '61'],\n",
       " ['대전', '24.4', '72'],\n",
       " ['동두천', '22.8', '68'],\n",
       " ['동해', '17.7', '83'],\n",
       " ['목포', '20.8', '86'],\n",
       " ['문경', '20.8', '81'],\n",
       " ['밀양', '20.4', '81'],\n",
       " ['백령도', '21.9', '60'],\n",
       " ['보령', '20.1', '94'],\n",
       " ['보성군', '20.2', '91'],\n",
       " ['보은', '19.9', '91'],\n",
       " ['봉화', '16.4', '87'],\n",
       " ['부산', '20.9', '81'],\n",
       " ['부안', '22.2', '93'],\n",
       " ['부여', '23.0', '76'],\n",
       " ['북강릉', '19.2', '82'],\n",
       " ['북창원', '21.5', '80'],\n",
       " ['북춘천', '22.7', '74'],\n",
       " ['산청', '20.3', '89'],\n",
       " ['상주', '22.2', '87'],\n",
       " ['서귀포', '22.7', '74'],\n",
       " ['서산', '21.3', '86'],\n",
       " ['서울', '26.6', '53'],\n",
       " ['성산', '20.0', '94'],\n",
       " ['세종', '23.4', '71'],\n",
       " ['속초', '19.1', '91'],\n",
       " ['수원', '23.6', '68'],\n",
       " ['순창군', '21.9', '86'],\n",
       " ['순천', '17.3', '98'],\n",
       " ['안동', '21.3', '62'],\n",
       " ['양산시', '20.1', '82'],\n",
       " ['양평', '23.4', '84'],\n",
       " ['여수', '21.1', '88'],\n",
       " ['영광군', '20.1', '91'],\n",
       " ['영덕', '17.0', '97'],\n",
       " ['영월', '22.4', '78'],\n",
       " ['영주', '20.5', '86'],\n",
       " ['영천', '19.5', '83'],\n",
       " ['완도', '18.4', '88'],\n",
       " ['울릉도', '18.8', '99'],\n",
       " ['울산', '20.8', '98'],\n",
       " ['울진', '19.3', '85'],\n",
       " ['원주', '26.2', '51'],\n",
       " ['의령군', '21.3', '81'],\n",
       " ['의성', '19.1', '85'],\n",
       " ['이천', '25.0', '63'],\n",
       " ['인제', '22.5', '69'],\n",
       " ['인천', '23.8', '75'],\n",
       " ['임실', '21.8', '88'],\n",
       " ['장수', '19.3', '100'],\n",
       " ['장흥', '18.5', '95'],\n",
       " ['전주', '23.5', '81'],\n",
       " ['정선군', '20.8', '81'],\n",
       " ['정읍', '21.3', '81'],\n",
       " ['제주', '22.0', '88'],\n",
       " ['제천', '22.0', '86'],\n",
       " ['진도군', '17.9', '95'],\n",
       " ['진주', '20.7', '87'],\n",
       " ['창원', '20.7', '78'],\n",
       " ['천안', '21.8', '75'],\n",
       " ['철원', '21.8', '77'],\n",
       " ['청송군', '16.0', '95'],\n",
       " ['청주', '25.3', '72'],\n",
       " ['추풍령', '19.5', '76'],\n",
       " ['춘천', '24.0', '64'],\n",
       " ['충주', '24.4', '68'],\n",
       " ['태백', '17.6', '75'],\n",
       " ['통영', '19.9', '90'],\n",
       " ['파주', '20.2', '81'],\n",
       " ['포항', '21.2', '83'],\n",
       " ['함양군', '19.5', '93'],\n",
       " ['합천', '21.1', '84'],\n",
       " ['해남', '17.4', '96'],\n",
       " ['홍성', '21.4', '86'],\n",
       " ['홍천', '23.6', '66'],\n",
       " ['흑산도', '17.7', '97']]"
      ]
     },
     "execution_count": 74,
     "metadata": {},
     "output_type": "execute_result"
    }
   ],
   "source": [
    "# 웹페이지에서 HTML 가져와서 원하는 데이터 추출\n",
    "\n",
    "import requests                 # 웹페이지에서 HTML을 가져오는 모듈\n",
    "from bs4 import BeautifulSoup   # HTML을 파싱하는 모듈\n",
    "\n",
    "# response 객체 \n",
    "response = requests.get('http://www.weather.go.kr/weather/observation/currentweather.jsp') \n",
    "soup = BeautifulSoup(response.content, 'html.parser')    # BeautifulSoup객체\n",
    "\n",
    "table = soup.find('table', {'class' : 'table_develop3'}) # <table class=\"table_develop3\">을 찾음\n",
    "\n",
    "data = []                               # 최종 데이터\n",
    "\n",
    "for tr in table.find_all('tr'):            # 모든 <tr>태그 찾아서 반복\n",
    "    tds = list(tr.find_all('td'))          # 모든 <td>태그 찾아서 리스트로 만듦\n",
    "    for td in tds:                         # 모든 <td>>태그 반복\n",
    "        if td.find('a'):                   # <td>태그 안에 <a> 태그 있으면 \n",
    "            point = td.find('a').text      # <a> 태그 안에서 '지점'을 가져옴\n",
    "            temp = tds[5].text             # <td> 태그 리스트의 여섯 번째(인덱스 5)에서 기온을 가져옴\n",
    "            hum = tds[9].text              # <td> 태그 리스트의 열 번째(인덱스 9)에서 습도를 가져옴\n",
    "            data.append([point,temp,hum])  # 최종 데이터에 지점, 온도, 습도 추가\n",
    "\n",
    "data"
   ]
  },
  {
   "cell_type": "code",
   "execution_count": 76,
   "metadata": {},
   "outputs": [],
   "source": [
    "# 추출한 데이터를 .csv파일(콤마로 컬럼 구분) 저장\n",
    "\n",
    "with open('weather.csv', 'w') as file: # weather.csv 파일을 쓰기 모드로 열기\n",
    "    file.write('point,temp,hum\\n')     # 컬럼 이름 추가\n",
    "    for i in data:                     # data를 반복하면서\n",
    "        file.write('{0},{1},{2}\\n'.format(i[0],i[1],i[2]))  # 지점,온도,습도를 줄 단위로 저장"
   ]
  },
  {
   "cell_type": "markdown",
   "metadata": {},
   "source": [
    "### 27.2  시각화 - 데이터로 그래프 그리기\n",
    "-------------------------------------------------------------------------------\n",
    "* pandas의 `DataFrame`: 엑셀 형태의 자료형. 행과 열로 구성. csv파일의 첫 줄에 컬럼명 필수.\n",
    "* `pd.read_csv('파일명', index_col='인덱스컬럼', encoding='인코딩')`: 인덱스컬럼 - 인덱스가 되는 컬럼"
   ]
  },
  {
   "cell_type": "code",
   "execution_count": 88,
   "metadata": {},
   "outputs": [
    {
     "data": {
      "text/html": [
       "<div>\n",
       "<style scoped>\n",
       "    .dataframe tbody tr th:only-of-type {\n",
       "        vertical-align: middle;\n",
       "    }\n",
       "\n",
       "    .dataframe tbody tr th {\n",
       "        vertical-align: top;\n",
       "    }\n",
       "\n",
       "    .dataframe thead th {\n",
       "        text-align: right;\n",
       "    }\n",
       "</style>\n",
       "<table border=\"1\" class=\"dataframe\">\n",
       "  <thead>\n",
       "    <tr style=\"text-align: right;\">\n",
       "      <th></th>\n",
       "      <th>temp</th>\n",
       "      <th>hum</th>\n",
       "    </tr>\n",
       "    <tr>\n",
       "      <th>point</th>\n",
       "      <th></th>\n",
       "      <th></th>\n",
       "    </tr>\n",
       "  </thead>\n",
       "  <tbody>\n",
       "    <tr>\n",
       "      <th>강릉</th>\n",
       "      <td>23.1</td>\n",
       "      <td>69</td>\n",
       "    </tr>\n",
       "    <tr>\n",
       "      <th>강진군</th>\n",
       "      <td>19.0</td>\n",
       "      <td>90</td>\n",
       "    </tr>\n",
       "    <tr>\n",
       "      <th>강화</th>\n",
       "      <td>20.8</td>\n",
       "      <td>81</td>\n",
       "    </tr>\n",
       "    <tr>\n",
       "      <th>거제</th>\n",
       "      <td>18.9</td>\n",
       "      <td>86</td>\n",
       "    </tr>\n",
       "    <tr>\n",
       "      <th>거창</th>\n",
       "      <td>19.5</td>\n",
       "      <td>92</td>\n",
       "    </tr>\n",
       "    <tr>\n",
       "      <th>...</th>\n",
       "      <td>...</td>\n",
       "      <td>...</td>\n",
       "    </tr>\n",
       "    <tr>\n",
       "      <th>합천</th>\n",
       "      <td>21.1</td>\n",
       "      <td>84</td>\n",
       "    </tr>\n",
       "    <tr>\n",
       "      <th>해남</th>\n",
       "      <td>17.4</td>\n",
       "      <td>96</td>\n",
       "    </tr>\n",
       "    <tr>\n",
       "      <th>홍성</th>\n",
       "      <td>21.4</td>\n",
       "      <td>86</td>\n",
       "    </tr>\n",
       "    <tr>\n",
       "      <th>홍천</th>\n",
       "      <td>23.6</td>\n",
       "      <td>66</td>\n",
       "    </tr>\n",
       "    <tr>\n",
       "      <th>흑산도</th>\n",
       "      <td>17.7</td>\n",
       "      <td>97</td>\n",
       "    </tr>\n",
       "  </tbody>\n",
       "</table>\n",
       "<p>95 rows × 2 columns</p>\n",
       "</div>"
      ],
      "text/plain": [
       "       temp  hum\n",
       "point           \n",
       "강릉     23.1   69\n",
       "강진군    19.0   90\n",
       "강화     20.8   81\n",
       "거제     18.9   86\n",
       "거창     19.5   92\n",
       "...     ...  ...\n",
       "합천     21.1   84\n",
       "해남     17.4   96\n",
       "홍성     21.4   86\n",
       "홍천     23.6   66\n",
       "흑산도    17.7   97\n",
       "\n",
       "[95 rows x 2 columns]"
      ]
     },
     "execution_count": 88,
     "metadata": {},
     "output_type": "execute_result"
    }
   ],
   "source": [
    "# %matplotlib inline: notebook을 실행한 브라우저에서 바로 그래프를 볼 수 있음\n",
    "%matplotlib inline              \n",
    "import pandas as pd             # pandas: 데이터 저장/처리 패키지\n",
    "import matplotlib as mpl        # matplotlib: 그래프 그리는 패키지 \n",
    "import matplotlib.pyplot as plt # matplotlib.pyploy: 그래프 그리는 모듈\n",
    "\n",
    "# csv파일 읽어서 DataFrame 객체로 만듦. \n",
    "# 인덱스컬럼 = 'point' (인덱스가 되는 컬럼)\n",
    "# encoding = 'euc-kr' (해당 인코딩 설정으로 파일 읽음) - 파일이 euc-kr 인코딩이기 때문.\n",
    "df = pd.read_csv('weather.csv', index_col='point', encoding = 'euc-kr')\n",
    "df"
   ]
  },
  {
   "cell_type": "markdown",
   "metadata": {},
   "source": [
    "#### 27.2.1 특별시, 광역시 모으기\n",
    "------------------------------------------------------------------------------------\n",
    "* `DataFrame`의 `loc`속성\n",
    "* `loc`(label-location): 레이블로 특정 인덱스의 데이터만 가져 옴"
   ]
  },
  {
   "cell_type": "code",
   "execution_count": 89,
   "metadata": {},
   "outputs": [
    {
     "data": {
      "text/html": [
       "<div>\n",
       "<style scoped>\n",
       "    .dataframe tbody tr th:only-of-type {\n",
       "        vertical-align: middle;\n",
       "    }\n",
       "\n",
       "    .dataframe tbody tr th {\n",
       "        vertical-align: top;\n",
       "    }\n",
       "\n",
       "    .dataframe thead th {\n",
       "        text-align: right;\n",
       "    }\n",
       "</style>\n",
       "<table border=\"1\" class=\"dataframe\">\n",
       "  <thead>\n",
       "    <tr style=\"text-align: right;\">\n",
       "      <th></th>\n",
       "      <th>temp</th>\n",
       "      <th>hum</th>\n",
       "    </tr>\n",
       "    <tr>\n",
       "      <th>point</th>\n",
       "      <th></th>\n",
       "      <th></th>\n",
       "    </tr>\n",
       "  </thead>\n",
       "  <tbody>\n",
       "    <tr>\n",
       "      <th>서울</th>\n",
       "      <td>26.6</td>\n",
       "      <td>53</td>\n",
       "    </tr>\n",
       "    <tr>\n",
       "      <th>부산</th>\n",
       "      <td>20.9</td>\n",
       "      <td>81</td>\n",
       "    </tr>\n",
       "    <tr>\n",
       "      <th>인천</th>\n",
       "      <td>23.8</td>\n",
       "      <td>75</td>\n",
       "    </tr>\n",
       "    <tr>\n",
       "      <th>대전</th>\n",
       "      <td>24.4</td>\n",
       "      <td>72</td>\n",
       "    </tr>\n",
       "    <tr>\n",
       "      <th>대구</th>\n",
       "      <td>23.7</td>\n",
       "      <td>61</td>\n",
       "    </tr>\n",
       "    <tr>\n",
       "      <th>광주</th>\n",
       "      <td>21.7</td>\n",
       "      <td>90</td>\n",
       "    </tr>\n",
       "    <tr>\n",
       "      <th>울산</th>\n",
       "      <td>20.8</td>\n",
       "      <td>98</td>\n",
       "    </tr>\n",
       "  </tbody>\n",
       "</table>\n",
       "</div>"
      ],
      "text/plain": [
       "       temp  hum\n",
       "point           \n",
       "서울     26.6   53\n",
       "부산     20.9   81\n",
       "인천     23.8   75\n",
       "대전     24.4   72\n",
       "대구     23.7   61\n",
       "광주     21.7   90\n",
       "울산     20.8   98"
      ]
     },
     "execution_count": 89,
     "metadata": {},
     "output_type": "execute_result"
    }
   ],
   "source": [
    "city_df = df.loc[['서울','부산','인천','대전','대구','광주','울산']]\n",
    "city_df"
   ]
  },
  {
   "cell_type": "markdown",
   "metadata": {},
   "source": [
    "#### 27.2.2 특별시, 광역시 그래프 그리기\n",
    "--------------------------------------------------------------------------------------\n",
    "* 폰트 설정\n",
    "> * `mpl.font_manager.FontProperties(fname='폰트경로').get_name()` : `폰트정보`를 가져온 후, `폰트이름` 얻기\n",
    "> * `mpl.rc('font',family='폰트이름')`: 폰트 설정\n",
    "\n",
    "* `DataFrame객체`로 그래프 그릴 때는 `plot`메소드\n",
    "* `plot`메소드는 `축서브프롯(AxesSubplot)객체` 반환\n",
    "> * `ax = city_df.plot(kind='형태', title='제목', figsize=(크기), legend=True(막대값 표시), fontsize=12)`\n",
    "> * `ax.set_xlabel('x축제목', fontsize=12)` : x축 정보 표시\n",
    "> * `ax.set_ylabel('y축제목', fontsize=12)` : y축 정보 표시\n",
    "> * `ax.lengend(['기온', '습도'], fontsize=12)` : 차트의 각 막대가 무슨 값인지 표시"
   ]
  },
  {
   "cell_type": "code",
   "execution_count": 90,
   "metadata": {},
   "outputs": [
    {
     "data": {
      "text/plain": [
       "<matplotlib.legend.Legend at 0x1a694d07c88>"
      ]
     },
     "execution_count": 90,
     "metadata": {},
     "output_type": "execute_result"
    },
    {
     "data": {
      "image/png": "[encoded data removed]",
      "text/plain": [
       "<Figure size 864x288 with 1 Axes>"
      ]
     },
     "metadata": {
      "needs_background": "light"
     },
     "output_type": "display_data"
    }
   ],
   "source": [
    "# Windows 한글 폰트 설정\n",
    "font_name = mpl.font_manager.FontProperties(fname='C:/Windows/Fonts/malgun.ttf').get_name()\n",
    "mpl.rc('font', family=font_name)\n",
    " \n",
    "# 차트 종류, 제목, 차트 크기, 범례, 폰트 크기 설정\n",
    "ax = city_df.plot(kind='bar', title='날씨', figsize=(12, 4), legend=True, fontsize=12)\n",
    "ax.set_xlabel('도시', fontsize=12)          # x축 정보 표시\n",
    "ax.set_ylabel('기온/습도', fontsize=12)     # y축 정보 표시\n",
    "ax.legend(['기온', '습도'], fontsize=12)    # 범례 지정"
   ]
  }
 ],
 "metadata": {
  "kernelspec": {
   "display_name": "Python 3",
   "language": "python",
   "name": "python3"
  },
  "language_info": {
   "codemirror_mode": {
    "name": "ipython",
    "version": 3
   },
   "file_extension": ".py",
   "mimetype": "text/x-python",
   "name": "python",
   "nbconvert_exporter": "python",
   "pygments_lexer": "ipython3",
   "version": "3.7.6"
  }
 },
 "nbformat": 4,
 "nbformat_minor": 4
}
